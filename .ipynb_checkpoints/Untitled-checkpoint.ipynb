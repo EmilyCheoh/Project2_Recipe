{
 "cells": [
  {
   "cell_type": "code",
   "execution_count": 1,
   "metadata": {},
   "outputs": [
    {
     "name": "stderr",
     "output_type": "stream",
     "text": [
      "/anaconda3/lib/python3.6/site-packages/bs4/__init__.py:181: UserWarning: No parser was explicitly specified, so I'm using the best available HTML parser for this system (\"lxml\"). This usually isn't a problem, but if you run this code on another system, or in a different virtual environment, it may use a different parser and behave differently.\n",
      "\n",
      "The code that caused this warning is on line 193 of the file /anaconda3/lib/python3.6/runpy.py. To get rid of this warning, change code that looks like this:\n",
      "\n",
      " BeautifulSoup(YOUR_MARKUP})\n",
      "\n",
      "to this:\n",
      "\n",
      " BeautifulSoup(YOUR_MARKUP, \"lxml\")\n",
      "\n",
      "  markup_type=markup_type))\n"
     ]
    },
    {
     "name": "stdout",
     "output_type": "stream",
     "text": [
      "Total Fat: 19.3g\n",
      "30 %\n",
      "Saturated Fat: 9.0g\n",
      "Cholesterol: 115mg\n",
      "38 %\n",
      "Sodium: 999mg\n",
      "40 %\n",
      "Potassium: 717mg\n",
      "20 %\n",
      "Total Carbohydrates: 47.1g\n",
      "15 %\n",
      "Dietary Fiber: 6.3g\n",
      "25 %\n",
      "Protein: 35.6g\n",
      "71 %\n",
      "Sugars: 12g\n",
      "Vitamin A: 855IU\n",
      "Vitamin C: 2mg\n",
      "Calcium: 361mg\n",
      "Iron: 4mg\n",
      "Thiamin: 0mg\n",
      "Niacin: 11mg\n",
      "Vitamin B6: 0mg\n",
      "Magnesium: 74mg\n",
      "Folate: 41mcg\n",
      "{'ingredients': ['12 whole wheat lasagna noodles', '1 pound lean ground beef', '2 cloves garlic, chopped', '1/2 teaspoon garlic powder', '1 teaspoon dried oregano, or to taste', 'salt and ground black pepper to taste', '1 (16 ounce) package cottage cheese', '2 eggs', '1/2 cup shredded Parmesan cheese', '1 1/2 (25 ounce) jars tomato-basil pasta sauce', '2 cups shredded mozzarella cheese'], 'directions': ['Preheat oven to 350 degrees F (175 degrees C).', 'Fill a large pot with lightly salted water and bring to a rolling boil over high heat. Once the water is boiling, add the lasagna noodles a few at a time, and return to a boil. Cook the pasta uncovered, stirring occasionally, until the pasta has cooked through, but is still firm to the bite, about 10 minutes. Remove the noodles to a plate.', 'Place the ground beef into a skillet over medium heat, add the garlic, garlic powder, oregano, salt, and black pepper to the skillet. Cook the meat, chopping it into small chunks as it cooks, until no longer pink, about 10 minutes. Drain excess grease.', 'In a bowl, mix the cottage cheese, eggs, and Parmesan cheese until thoroughly combined.', 'Place 4 noodles side by side into the bottom of a 9x13-inch baking pan; top with a layer of the tomato-basil sauce, a layer of ground beef mixture, and a layer of the cottage cheese mixture. Repeat layers twice more, ending with a layer of sauce; sprinkle top with the mozzarella cheese. Cover the dish with aluminum foil.', 'Bake in the preheated oven until the casserole is bubbling and the cheese has melted, about 30 minutes. Remove foil and bake until cheese has begun to brown, about 10 more minutes. Allow to stand at least 10 minutes before serving.'], 'nutrition': [{'name': 'Total Fat ', 'amount': '19.3', 'unit': 'g', 'daily_value': '30 %'}, {'name': 'Saturated Fat ', 'amount': '9.0', 'unit': 'g', 'daily_value': None}, {'name': 'Cholesterol ', 'amount': '115', 'unit': 'mg', 'daily_value': '38 %'}, {'name': 'Sodium ', 'amount': '999', 'unit': 'mg', 'daily_value': '40 %'}, {'name': 'Potassium ', 'amount': '717', 'unit': 'mg', 'daily_value': '20 %'}, {'name': 'Total Carbohydrates ', 'amount': '47.1', 'unit': 'g', 'daily_value': '15 %'}, {'name': 'Dietary Fiber ', 'amount': '6.3', 'unit': 'g', 'daily_value': '25 %'}, {'name': 'Protein ', 'amount': '35.6', 'unit': 'g', 'daily_value': '71 %'}, {'name': 'Sugars ', 'amount': '12', 'unit': 'g', 'daily_value': None}, {'name': 'Vitamin A ', 'amount': '855', 'unit': 'IU', 'daily_value': None}, {'name': 'Vitamin C ', 'amount': '2', 'unit': 'mg', 'daily_value': None}, {'name': 'Calcium ', 'amount': '361', 'unit': 'mg', 'daily_value': None}, {'name': 'Iron ', 'amount': '4', 'unit': 'mg', 'daily_value': None}, {'name': 'Thiamin ', 'amount': '0', 'unit': 'mg', 'daily_value': None}, {'name': 'Niacin ', 'amount': '11', 'unit': 'mg', 'daily_value': None}, {'name': 'Vitamin B ', 'amount': '0', 'unit': 'mg', 'daily_value': None}, {'name': 'Magnesium ', 'amount': '74', 'unit': 'mg', 'daily_value': None}, {'name': 'Folate ', 'amount': '41', 'unit': 'mcg', 'daily_value': None}]}\n"
     ]
    }
   ],
   "source": [
    "import nltk \n",
    "from nltk.corpus import stopwords \n",
    "from nltk.tokenize import word_tokenize, sent_tokenize \n",
    "\n",
    "import re\n",
    "\n",
    "import copy\n",
    "import script"
   ]
  },
  {
   "cell_type": "code",
   "execution_count": 11,
   "metadata": {},
   "outputs": [],
   "source": [
    "to_veg = {'meat' : ['tofu', 'seitan', 'tempeh', 'textured soy protein', 'quinoa', 'beans'],\n",
    "         'gelatin': ['corn starch', 'agar', 'carrageenan', 'arrowroot powder', 'xanthan gum'],\n",
    "         'honey': ['agave nectar', 'cane sugar', 'maple syrup'],\n",
    "         'cheese' : ['nutritional yeast flakes', 'soy or nut based cheese'],\n",
    "         'mayonnaise' : ['soy or grape seed oil mayonnaise']}"
   ]
  },
  {
   "cell_type": "code",
   "execution_count": 28,
   "metadata": {},
   "outputs": [],
   "source": [
    "meats = ['beef', 'fish', 'goat', 'lamb', 'meatball', 'pork', 'poultry', 'sausage', 'seafood']"
   ]
  },
  {
   "cell_type": "code",
   "execution_count": null,
   "metadata": {},
   "outputs": [],
   "source": [
    "keywords = 'meat lasagna'\n",
    "rf = script.RecipeFetcher()\n",
    "meat_lasagna = rf.search_recipes(keywords)[0]\n",
    "result = rf.scrape_recipe(meat_lasagna)\n",
    "result"
   ]
  },
  {
   "cell_type": "code",
   "execution_count": 24,
   "metadata": {},
   "outputs": [
    {
     "data": {
      "text/plain": [
       "['12 whole wheat lasagna noodles',\n",
       " '1 pound lean ground beef',\n",
       " '2 cloves garlic, chopped',\n",
       " '1/2 teaspoon garlic powder',\n",
       " '1 teaspoon dried oregano, or to taste',\n",
       " 'salt and ground black pepper to taste',\n",
       " '1 (16 ounce) package cottage cheese',\n",
       " '2 eggs',\n",
       " '1/2 cup shredded Parmesan cheese',\n",
       " '1 1/2 (25 ounce) jars tomato-basil pasta sauce',\n",
       " '2 cups shredded mozzarella cheese']"
      ]
     },
     "execution_count": 24,
     "metadata": {},
     "output_type": "execute_result"
    }
   ],
   "source": [
    "ingredients = result['ingredients']\n",
    "ingredients"
   ]
  },
  {
   "cell_type": "code",
   "execution_count": 29,
   "metadata": {},
   "outputs": [
    {
     "data": {
      "text/plain": [
       "['beef',\n",
       " 'fish',\n",
       " 'goat',\n",
       " 'lamb',\n",
       " 'meatball',\n",
       " 'pork',\n",
       " 'poultry',\n",
       " 'sausage',\n",
       " 'seafood']"
      ]
     },
     "execution_count": 29,
     "metadata": {},
     "output_type": "execute_result"
    }
   ],
   "source": [
    "meats"
   ]
  },
  {
   "cell_type": "code",
   "execution_count": null,
   "metadata": {},
   "outputs": [],
   "source": [
    "\n",
    "from random import randint\n",
    "\n",
    "count = -1\n",
    "for dicts in ingredients:\n",
    "    count += 1\n",
    "    for meat in meats:\n",
    "        if meat in dicts.lower():\n",
    "            print('meat ingredient!!')\n",
    "            category = to_vegetariandict[subst]\n",
    "            tempList = substitutes_dict[category]\n",
    "\n",
    "            # if no subs left, repopulate\n",
    "            if tempList == []:\n",
    "                tempList = veg_sub_dict[category]\n",
    "                substitutes_dict[category] = veg_sub_dict[category]\n",
    "\n",
    "            newingredient = tempList[randint(0, len(tempList)-1)] # pick sub at random\n",
    "            substitutes_dict[category].remove(newingredient) # remove sub from list\n",
    "\n",
    "            # newingredients.append(subst)\n",
    "            dicts['name']=newingredient\n",
    "            ingredients[count]['name']=dicts['name']\n",
    "\n",
    "            # save transformations\n",
    "            transformed[subst] = newingredient"
   ]
  },
  {
   "cell_type": "code",
   "execution_count": 39,
   "metadata": {},
   "outputs": [
    {
     "name": "stdout",
     "output_type": "stream",
     "text": [
      "12 whole wheat lasagna noodles\n",
      "1 pound lean ground beef\n",
      "yes meat!!\n",
      "1 pound lean ground beef\n",
      "2 cloves garlic, chopped\n",
      "1/2 teaspoon garlic powder\n",
      "1 teaspoon dried oregano, or to taste\n",
      "salt and ground black pepper to taste\n",
      "1 (16 ounce) package cottage cheese\n",
      "2 eggs\n",
      "1/2 cup shredded Parmesan cheese\n",
      "1 1/2 (25 ounce) jars tomato-basil pasta sauce\n",
      "2 cups shredded mozzarella cheese\n"
     ]
    }
   ],
   "source": [
    "for dicts in ingredients:\n",
    "    print(dicts)\n",
    "    for meat in meats:\n",
    "        if meat in dicts.lower():\n",
    "            print('yes meat!!')\n",
    "            print(dicts)"
   ]
  },
  {
   "cell_type": "code",
   "execution_count": 40,
   "metadata": {},
   "outputs": [
    {
     "name": "stdout",
     "output_type": "stream",
     "text": [
      "True\n"
     ]
    }
   ],
   "source": [
    "import helper"
   ]
  },
  {
   "cell_type": "code",
   "execution_count": null,
   "metadata": {},
   "outputs": [],
   "source": [
    "def to_veggie(ingredients, tools, methods, steps): \n",
    "    new_ingredients = []\n",
    "    for ingredient in ingredients:\n",
    "        name = ingredient['ingredient_name']\n",
    "        for meat in meats:\n",
    "            if re.search(meat,name):\n",
    "                ingredient['quantity'] = 0.5    \n",
    "        \n",
    "        if re.search('oil',name):\n",
    "            ingredient['quantity'] = 1 \n",
    "        \n",
    "        if re.search('salt',name):\n",
    "            ingredient['quantity'] = 0.25\n",
    "            ingredient['measurement'] = 'teaspoon'\n",
    "        \n",
    "        if re.search('sugar',name):\n",
    "            ingredients.remove(ingredient)\n",
    "        \n",
    "        if re.search('cheese',name):\n",
    "            ingredients.remove(ingredient)\n",
    "        \n",
    "        \n",
    "        for veg in vegetables:\n",
    "            if re.search(veg, name):\n",
    "                ingredient['quantity'] *=2\n",
    "                break\n",
    "                \n",
    "        ingredients.append(ingredient)                          \n",
    "\n",
    "    for method in methods:\n",
    "        if method == 'fry':\n",
    "            methods.remove('fry')\n",
    "            if 'boil' not in methods and 'boilling' not in methods:\n",
    "                methods.append('boil')\n",
    "            \n",
    "    new_steps=[]\n",
    "    for step in steps:\n",
    "        if re.search('sugar',step[0]):\n",
    "            print(step,\"----------being deleted\")\n",
    "            continue\n",
    "        print(step,\"\\n\")\n",
    "        new_steps.append(step)\n",
    "    return ingredients,methods, new_steps \n",
    "\n",
    "\n",
    "ingredients = []\n",
    "ingredient={}\n",
    "ingredient['ingredient_name'] = 'salt and cheese '\n",
    "ingredient['quantity'] = 2\n",
    "ingredient['measurement'] ='pound'\n",
    "ingredients.append(ingredient)\n",
    "step = {}"
   ]
  }
 ],
 "metadata": {
  "kernelspec": {
   "display_name": "Python 3",
   "language": "python",
   "name": "python3"
  },
  "language_info": {
   "codemirror_mode": {
    "name": "ipython",
    "version": 3
   },
   "file_extension": ".py",
   "mimetype": "text/x-python",
   "name": "python",
   "nbconvert_exporter": "python",
   "pygments_lexer": "ipython3",
   "version": "3.6.8"
  }
 },
 "nbformat": 4,
 "nbformat_minor": 2
}
