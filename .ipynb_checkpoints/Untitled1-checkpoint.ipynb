{
 "cells": [
  {
   "cell_type": "code",
   "execution_count": 19,
   "metadata": {},
   "outputs": [],
   "source": [
    "from helper import *\n",
    "import script\n",
    "\n",
    "\n",
    "def get_recipe(name):\n",
    "    rf = script.RecipeFetcher()\n",
    "    recipe = rf.search_recipes(name)[0]\n",
    "    result = rf.scrape_recipe(recipe)\n",
    "    ingredients = result['ingredients']\n",
    "    directions = result['directions']\n",
    "    return ingredients, directions"
   ]
  },
  {
   "cell_type": "code",
   "execution_count": 39,
   "metadata": {},
   "outputs": [
    {
     "name": "stderr",
     "output_type": "stream",
     "text": [
      "/anaconda3/lib/python3.6/site-packages/bs4/__init__.py:181: UserWarning: No parser was explicitly specified, so I'm using the best available HTML parser for this system (\"lxml\"). This usually isn't a problem, but if you run this code on another system, or in a different virtual environment, it may use a different parser and behave differently.\n",
      "\n",
      "The code that caused this warning is on line 193 of the file /anaconda3/lib/python3.6/runpy.py. To get rid of this warning, change code that looks like this:\n",
      "\n",
      " BeautifulSoup(YOUR_MARKUP})\n",
      "\n",
      "to this:\n",
      "\n",
      " BeautifulSoup(YOUR_MARKUP, \"lxml\")\n",
      "\n",
      "  markup_type=markup_type))\n"
     ]
    }
   ],
   "source": [
    "ing, steps = get_recipe('meat lasagna')"
   ]
  },
  {
   "cell_type": "code",
   "execution_count": 40,
   "metadata": {},
   "outputs": [
    {
     "data": {
      "text/plain": [
       "['Preheat oven to 350 degrees F (175 degrees C).',\n",
       " 'Fill a large pot with lightly salted water and bring to a rolling boil over high heat. Once the water is boiling, add the lasagna noodles a few at a time, and return to a boil. Cook the pasta uncovered, stirring occasionally, until the pasta has cooked through, but is still firm to the bite, about 10 minutes. Remove the noodles to a plate.',\n",
       " 'Place the ground beef into a skillet over medium heat, add the garlic, garlic powder, oregano, salt, and black pepper to the skillet. Cook the meat, chopping it into small chunks as it cooks, until no longer pink, about 10 minutes. Drain excess grease.',\n",
       " 'In a bowl, mix the cottage cheese, eggs, and Parmesan cheese until thoroughly combined.',\n",
       " 'Place 4 noodles side by side into the bottom of a 9x13-inch baking pan; top with a layer of the tomato-basil sauce, a layer of ground beef mixture, and a layer of the cottage cheese mixture. Repeat layers twice more, ending with a layer of sauce; sprinkle top with the mozzarella cheese. Cover the dish with aluminum foil.',\n",
       " 'Bake in the preheated oven until the casserole is bubbling and the cheese has melted, about 30 minutes. Remove foil and bake until cheese has begun to brown, about 10 more minutes. Allow to stand at least 10 minutes before serving.']"
      ]
     },
     "execution_count": 40,
     "metadata": {},
     "output_type": "execute_result"
    }
   ],
   "source": [
    "steps"
   ]
  },
  {
   "cell_type": "code",
   "execution_count": 41,
   "metadata": {},
   "outputs": [],
   "source": [
    "to_veggie = {\n",
    "    'ground beef' : 'tofu',\n",
    "    'lean ground beef' : 'tofu',\n",
    "    'meat' : 'tofu',\n",
    "    'beef' : 'tofu',\n",
    "    'steak': 'mushroom',\n",
    "    'fish' : 'tofu',\n",
    "    'goat' : 'tofu',\n",
    "    'lamb' : 'tofu',\n",
    "    'meatball' : 'vegetarian meatball',\n",
    "    'pork' : 'tofu',\n",
    "    'poultry' : 'tofu',\n",
    "    'sausage' : 'vegetarian sausage',\n",
    "    'seafood' : 'tofu',\n",
    "    'chicken broth' : 'vegetable broths'\n",
    "}\n",
    "\n",
    "meats = [\n",
    "    'lean ground beef', \n",
    "    'ground beef','beef', \n",
    "    'fish', \n",
    "    'goat', \n",
    "    'lamb', \n",
    "    'meatball', \n",
    "    'pork', \n",
    "    'poultry', \n",
    "    'sausage', \n",
    "    'seafood',\n",
    "    'chicken broth']\n",
    "\n",
    "# returns vegetarian recipe\n",
    "def to_veggie_ingredient(ingredients_lst):\n",
    "    tokenized_ingredients = []\n",
    "    for ing in ingredients_lst:\n",
    "        tokenized_ingredients.append(tokenize_ingredient(ing))\n",
    "    for ingredient in tokenized_ingredients:\n",
    "        ingredient_name = ingredient['ingredient_name']\n",
    "        for meat in meats:\n",
    "            if meat in ingredient_name.lower():\n",
    "                ingredient['ingredient_name'] = to_veggie[meat]\n",
    "    return tokenized_ingredients"
   ]
  },
  {
   "cell_type": "code",
   "execution_count": 42,
   "metadata": {},
   "outputs": [
    {
     "data": {
      "text/plain": [
       "[{'ingredient_name': 'whole wheat, lasagna noodles ',\n",
       "  'quantity': '12 ',\n",
       "  'measurement': '',\n",
       "  'preparation': ''},\n",
       " {'ingredient_name': 'tofu',\n",
       "  'quantity': '1 ',\n",
       "  'measurement': 'pound ',\n",
       "  'preparation': ''},\n",
       " {'ingredient_name': 'garlic ',\n",
       "  'quantity': '2 ',\n",
       "  'measurement': 'cloves ',\n",
       "  'preparation': ' chopped'},\n",
       " {'ingredient_name': 'garlic powder ',\n",
       "  'quantity': '1/2 ',\n",
       "  'measurement': 'teaspoon ',\n",
       "  'preparation': ''},\n",
       " {'ingredient_name': 'dried oregano ',\n",
       "  'quantity': '1 ',\n",
       "  'measurement': 'teaspoon ',\n",
       "  'preparation': ' or to taste'},\n",
       " {'ingredient_name': 'salt and ground black pepper to taste ',\n",
       "  'quantity': '',\n",
       "  'measurement': '',\n",
       "  'preparation': ''},\n",
       " {'ingredient_name': 'cottage cheese ',\n",
       "  'quantity': '1 (16 ounce) ',\n",
       "  'measurement': 'package ',\n",
       "  'preparation': ''},\n",
       " {'ingredient_name': 'eggs, ',\n",
       "  'quantity': '2 ',\n",
       "  'measurement': '',\n",
       "  'preparation': ''},\n",
       " {'ingredient_name': 'shredded parmesan cheese ',\n",
       "  'quantity': '1/2 ',\n",
       "  'measurement': 'cup ',\n",
       "  'preparation': ''},\n",
       " {'ingredient_name': 'tomato-basil pasta sauce ',\n",
       "  'quantity': '1 1/2 (25 ounce) ',\n",
       "  'measurement': 'jars ',\n",
       "  'preparation': ''},\n",
       " {'ingredient_name': 'shredded mozzarella cheese ',\n",
       "  'quantity': '2 ',\n",
       "  'measurement': 'cups ',\n",
       "  'preparation': ''}]"
      ]
     },
     "execution_count": 42,
     "metadata": {},
     "output_type": "execute_result"
    }
   ],
   "source": [
    "to_veggie_ingredient(ing)"
   ]
  },
  {
   "cell_type": "code",
   "execution_count": 169,
   "metadata": {},
   "outputs": [],
   "source": [
    "def modify_directions_veggies(ingredients_lst, directions_lst):\n",
    "    tools, methods, tokenized_steps = get_steps(directions_lst, ingredients_lst)\n",
    "    print(tokenized_steps)"
   ]
  },
  {
   "cell_type": "code",
   "execution_count": 44,
   "metadata": {
    "scrolled": true
   },
   "outputs": [
    {
     "name": "stdout",
     "output_type": "stream",
     "text": [
      "[['Preheat oven to 350 degrees F (175 degrees C)', {'ingredient': [], 'cooking tools': ['oven'], 'cooking methods': ['Preheat'], 'time': []}], ['Fill a large pot with lightly salted water and bring to a rolling boil over high heat', {'ingredient': ['12 whole wheat lasagna noodles'], 'cooking tools': ['pot'], 'cooking methods': ['boil', 'heat'], 'time': []}], [' Once the water is boiling, add the lasagna noodles a few at a time, and return to a boil', {'ingredient': ['2 cloves garlic, chopped', '12 whole wheat lasagna noodles'], 'cooking tools': [], 'cooking methods': ['boiling'], 'time': []}], [' Cook the pasta uncovered, stirring occasionally, until the pasta has cooked through, but is still firm to the bite, about 10 minutes', {'ingredient': ['1 1/2 (25 ounce) jars tomato-basil pasta sauce', '2 cloves garlic, chopped'], 'cooking tools': [], 'cooking methods': ['Cook', 'uncovered', 'stirring'], 'time': ['10 minute']}], [' Remove the noodles to a plate', {'ingredient': ['12 whole wheat lasagna noodles'], 'cooking tools': ['plate'], 'cooking methods': ['Remove'], 'time': []}], ['Place the ground beef into a skillet over medium heat, add the garlic, garlic powder, oregano, salt, and black pepper to the skillet', {'ingredient': ['1 pound lean ground beef', '12 whole wheat lasagna noodles', '2 cloves garlic, chopped', '1/2 teaspoon garlic powder', '1 teaspoon dried oregano, or to taste', 'salt and ground black pepper to taste'], 'cooking tools': ['skillet'], 'cooking methods': ['heat'], 'time': []}], [' Cook the meat, chopping it into small chunks as it cooks, until no longer pink, about 10 minutes', {'ingredient': ['2 cloves garlic, chopped'], 'cooking tools': [], 'cooking methods': ['Cook', 'chopping'], 'time': ['10 minute']}], [' Drain excess grease', {'ingredient': [], 'cooking tools': [], 'cooking methods': ['Drain'], 'time': []}], ['In a bowl, mix the cottage cheese, eggs, and Parmesan cheese until thoroughly combined', {'ingredient': ['2 cloves garlic, chopped', '1 (16 ounce) package cottage cheese', '2 eggs', '1/2 cup shredded Parmesan cheese'], 'cooking tools': ['bowl'], 'cooking methods': ['mix', 'combined'], 'time': []}], ['Place 4 noodles side by side into the bottom of a 9x13-inch baking pan', {'ingredient': ['12 whole wheat lasagna noodles'], 'cooking tools': ['pan'], 'cooking methods': ['baking'], 'time': []}], [' top with a layer of the tomato-basil sauce, a layer of ground beef mixture, and a layer of the cottage cheese mixture', {'ingredient': ['1 1/2 (25 ounce) jars tomato-basil pasta sauce', '2 cloves garlic, chopped', '1 pound lean ground beef', '1 (16 ounce) package cottage cheese'], 'cooking tools': [], 'cooking methods': ['top', 'mixture'], 'time': []}], [' Repeat layers twice more, ending with a layer of sauce', {'ingredient': ['2 cloves garlic, chopped', '1 1/2 (25 ounce) jars tomato-basil pasta sauce'], 'cooking tools': [], 'cooking methods': [], 'time': []}], [' sprinkle top with the mozzarella cheese', {'ingredient': ['2 cups shredded mozzarella cheese', '1 (16 ounce) package cottage cheese'], 'cooking tools': [], 'cooking methods': ['sprinkle', 'top'], 'time': []}], [' Cover the dish with aluminum foil', {'ingredient': [], 'cooking tools': ['foil'], 'cooking methods': ['Cover'], 'time': []}], ['Bake in the preheated oven until the casserole is bubbling and the cheese has melted, about 30 minutes', {'ingredient': ['1 (16 ounce) package cottage cheese', '2 cloves garlic, chopped'], 'cooking tools': ['oven'], 'cooking methods': ['Bake', 'preheated'], 'time': ['30 minute']}], [' Remove foil and bake until cheese has begun to brown, about 10 more minutes', {'ingredient': ['1 (16 ounce) package cottage cheese', '2 cloves garlic, chopped'], 'cooking tools': ['foil'], 'cooking methods': ['Remove', 'bake', 'brown'], 'time': ['10 minute']}], [' Allow to stand at least 10 minutes before serving', {'ingredient': [], 'cooking tools': [], 'cooking methods': ['stand'], 'time': ['10 minute']}]]\n"
     ]
    }
   ],
   "source": [
    "modify_directions_veggies(ing, steps)"
   ]
  },
  {
   "cell_type": "code",
   "execution_count": 54,
   "metadata": {},
   "outputs": [],
   "source": [
    "def get_tokenized_ingredients_and_steps(ingredients_lst, directions_lst):\n",
    "    tokenized_ingredients = []\n",
    "    for ing in ingredients_lst:\n",
    "        tokenized_ingredients.append(tokenize_ingredient(ing))\n",
    "    ingredient_names = []\n",
    "    for ingredient in tokenized_ingredients:\n",
    "        ingredient_names.append(ingredient['ingredient_name'])\n",
    "    tools, methods, tokenized_steps = get_steps(directions_lst, ingredient_names)\n",
    "    return tokenized_ingredients, tokenized_steps"
   ]
  },
  {
   "cell_type": "code",
   "execution_count": 170,
   "metadata": {},
   "outputs": [],
   "source": [
    "tokenized_ingredients, tokenized_steps = get_tokenized_ingredients_and_steps(ing, steps)"
   ]
  },
  {
   "cell_type": "code",
   "execution_count": 56,
   "metadata": {},
   "outputs": [
    {
     "data": {
      "text/plain": [
       "[['Preheat oven to 350 degrees F (175 degrees C)',\n",
       "  {'ingredient': [],\n",
       "   'cooking tools': ['oven'],\n",
       "   'cooking methods': ['Preheat'],\n",
       "   'time': []}],\n",
       " ['Fill a large pot with lightly salted water and bring to a rolling boil over high heat',\n",
       "  {'ingredient': ['whole wheat, lasagna noodles '],\n",
       "   'cooking tools': ['pot'],\n",
       "   'cooking methods': ['boil', 'heat'],\n",
       "   'time': []}],\n",
       " [' Once the water is boiling, add the lasagna noodles a few at a time, and return to a boil',\n",
       "  {'ingredient': ['whole wheat, lasagna noodles '],\n",
       "   'cooking tools': [],\n",
       "   'cooking methods': ['boiling'],\n",
       "   'time': []}],\n",
       " [' Cook the pasta uncovered, stirring occasionally, until the pasta has cooked through, but is still firm to the bite, about 10 minutes',\n",
       "  {'ingredient': ['tomato-basil pasta sauce ',\n",
       "    'whole wheat, lasagna noodles '],\n",
       "   'cooking tools': [],\n",
       "   'cooking methods': ['Cook', 'uncovered', 'stirring'],\n",
       "   'time': ['10 minute']}],\n",
       " [' Remove the noodles to a plate',\n",
       "  {'ingredient': ['whole wheat, lasagna noodles '],\n",
       "   'cooking tools': ['plate'],\n",
       "   'cooking methods': ['Remove'],\n",
       "   'time': []}],\n",
       " ['Place the ground beef into a skillet over medium heat, add the garlic, garlic powder, oregano, salt, and black pepper to the skillet',\n",
       "  {'ingredient': ['lean ground beef ',\n",
       "    'whole wheat, lasagna noodles ',\n",
       "    'garlic ',\n",
       "    'garlic powder ',\n",
       "    'dried oregano ',\n",
       "    'salt and ground black pepper to taste '],\n",
       "   'cooking tools': ['skillet'],\n",
       "   'cooking methods': ['heat'],\n",
       "   'time': []}],\n",
       " [' Cook the meat, chopping it into small chunks as it cooks, until no longer pink, about 10 minutes',\n",
       "  {'ingredient': ['whole wheat, lasagna noodles '],\n",
       "   'cooking tools': [],\n",
       "   'cooking methods': ['Cook', 'chopping'],\n",
       "   'time': ['10 minute']}],\n",
       " [' Drain excess grease',\n",
       "  {'ingredient': [],\n",
       "   'cooking tools': [],\n",
       "   'cooking methods': ['Drain'],\n",
       "   'time': []}],\n",
       " ['In a bowl, mix the cottage cheese, eggs, and Parmesan cheese until thoroughly combined',\n",
       "  {'ingredient': ['whole wheat, lasagna noodles ',\n",
       "    'cottage cheese ',\n",
       "    'eggs, '],\n",
       "   'cooking tools': ['bowl'],\n",
       "   'cooking methods': ['mix', 'combined'],\n",
       "   'time': []}],\n",
       " ['Place 4 noodles side by side into the bottom of a 9x13-inch baking pan',\n",
       "  {'ingredient': ['whole wheat, lasagna noodles '],\n",
       "   'cooking tools': ['pan'],\n",
       "   'cooking methods': ['baking'],\n",
       "   'time': []}],\n",
       " [' top with a layer of the tomato-basil sauce, a layer of ground beef mixture, and a layer of the cottage cheese mixture',\n",
       "  {'ingredient': ['tomato-basil pasta sauce ',\n",
       "    'whole wheat, lasagna noodles ',\n",
       "    'lean ground beef ',\n",
       "    'cottage cheese '],\n",
       "   'cooking tools': [],\n",
       "   'cooking methods': ['top', 'mixture'],\n",
       "   'time': []}],\n",
       " [' Repeat layers twice more, ending with a layer of sauce',\n",
       "  {'ingredient': ['whole wheat, lasagna noodles ',\n",
       "    'tomato-basil pasta sauce '],\n",
       "   'cooking tools': [],\n",
       "   'cooking methods': [],\n",
       "   'time': []}],\n",
       " [' sprinkle top with the mozzarella cheese',\n",
       "  {'ingredient': ['shredded mozzarella cheese ', 'cottage cheese '],\n",
       "   'cooking tools': [],\n",
       "   'cooking methods': ['sprinkle', 'top'],\n",
       "   'time': []}],\n",
       " [' Cover the dish with aluminum foil',\n",
       "  {'ingredient': [],\n",
       "   'cooking tools': ['foil'],\n",
       "   'cooking methods': ['Cover'],\n",
       "   'time': []}],\n",
       " ['Bake in the preheated oven until the casserole is bubbling and the cheese has melted, about 30 minutes',\n",
       "  {'ingredient': ['cottage cheese ', 'whole wheat, lasagna noodles '],\n",
       "   'cooking tools': ['oven'],\n",
       "   'cooking methods': ['Bake', 'preheated'],\n",
       "   'time': ['30 minute']}],\n",
       " [' Remove foil and bake until cheese has begun to brown, about 10 more minutes',\n",
       "  {'ingredient': ['cottage cheese ', 'whole wheat, lasagna noodles '],\n",
       "   'cooking tools': ['foil'],\n",
       "   'cooking methods': ['Remove', 'bake', 'brown'],\n",
       "   'time': ['10 minute']}],\n",
       " [' Allow to stand at least 10 minutes before serving',\n",
       "  {'ingredient': [],\n",
       "   'cooking tools': [],\n",
       "   'cooking methods': ['stand'],\n",
       "   'time': ['10 minute']}]]"
      ]
     },
     "execution_count": 56,
     "metadata": {},
     "output_type": "execute_result"
    }
   ],
   "source": [
    "tokenized_steps"
   ]
  },
  {
   "cell_type": "code",
   "execution_count": 48,
   "metadata": {},
   "outputs": [
    {
     "data": {
      "text/plain": [
       "[{'ingredient_name': 'preheat oven to degrees, f degrees, c . ',\n",
       "  'quantity': '350 175 ',\n",
       "  'measurement': '',\n",
       "  'preparation': ''},\n",
       " {'ingredient_name': 'fill a large pot with lightly salted water and bring to a rolling boil over high heat . once the water is boiling cook the pasta uncovered remove the noodles to a plate . ',\n",
       "  'quantity': '',\n",
       "  'measurement': '',\n",
       "  'preparation': ' stirring occasionally'},\n",
       " {'ingredient_name': 'place the ground beef into a skillet over medium heat cook the meat drain excess grease . ',\n",
       "  'quantity': '',\n",
       "  'measurement': '',\n",
       "  'preparation': ' chopping it into small chunks as it cooks'},\n",
       " {'ingredient_name': 'in a bowl ',\n",
       "  'quantity': '',\n",
       "  'measurement': '',\n",
       "  'preparation': ' mix the cottage cheese'},\n",
       " {'ingredient_name': 'place noodles, side by side into the bottom of a 9x13-inch baking pan ; top with a layer of the tomato-basil sauce repeat layers twice more cover the dish with aluminum foil . ',\n",
       "  'quantity': '4 ',\n",
       "  'measurement': '',\n",
       "  'preparation': ' ending with a layer of sauce; sprinkle top with the mozzarella cheese.'},\n",
       " {'ingredient_name': 'bake in the preheated oven until the casserole is bubbling and the cheese has melted remove foil and bake until cheese has begun to brown allow to stand at least minutes, before serving . ',\n",
       "  'quantity': '10 ',\n",
       "  'measurement': '',\n",
       "  'preparation': ' about 10 more minutes.'}]"
      ]
     },
     "execution_count": 48,
     "metadata": {},
     "output_type": "execute_result"
    }
   ],
   "source": [
    "tokenized_steps"
   ]
  },
  {
   "cell_type": "code",
   "execution_count": 57,
   "metadata": {},
   "outputs": [
    {
     "data": {
      "text/plain": [
       "'Place the ground beef into a skillet over medium heat, add the garlic, garlic powder, oregano, salt, and black pepper to the skillet. Cook the meat, chopping it into small chunks as it cooks, until no longer pink, about 10 minutes. Drain excess grease.'"
      ]
     },
     "execution_count": 57,
     "metadata": {},
     "output_type": "execute_result"
    }
   ],
   "source": [
    "'Place the ground beef into a skillet over medium heat, add the garlic, garlic powder, oregano, salt, and black pepper to the skillet. Cook the meat, chopping it into small chunks as it cooks, until no longer pink, about 10 minutes. Drain excess grease.'"
   ]
  },
  {
   "cell_type": "code",
   "execution_count": 58,
   "metadata": {},
   "outputs": [
    {
     "data": {
      "text/plain": [
       "['Place the ground beef into a skillet over medium heat, add the garlic, garlic powder, oregano, salt, and black pepper to the skillet',\n",
       " {'ingredient': ['lean ground beef ',\n",
       "   'whole wheat, lasagna noodles ',\n",
       "   'garlic ',\n",
       "   'garlic powder ',\n",
       "   'dried oregano ',\n",
       "   'salt and ground black pepper to taste '],\n",
       "  'cooking tools': ['skillet'],\n",
       "  'cooking methods': ['heat'],\n",
       "  'time': []}]"
      ]
     },
     "execution_count": 58,
     "metadata": {},
     "output_type": "execute_result"
    }
   ],
   "source": [
    "['Place the ground beef into a skillet over medium heat, add the garlic, garlic powder, oregano, salt, and black pepper to the skillet',\n",
    "  {'ingredient': ['lean ground beef ',\n",
    "    'whole wheat, lasagna noodles ',\n",
    "    'garlic ',\n",
    "    'garlic powder ',\n",
    "    'dried oregano ',\n",
    "    'salt and ground black pepper to taste '],\n",
    "   'cooking tools': ['skillet'],\n",
    "   'cooking methods': ['heat'],\n",
    "   'time': []}]"
   ]
  },
  {
   "cell_type": "code",
   "execution_count": 165,
   "metadata": {},
   "outputs": [],
   "source": [
    "def modify_directions_veggies(tokenized_steps):\n",
    "    for step in tokenized_steps:\n",
    "        ingredients = step[1]['ingredient']\n",
    "        print('ingredients list: ', ingredients)\n",
    "        for index, ingredient in enumerate(ingredients):\n",
    "            for meat in meats:\n",
    "                if meat in ingredient.lower():\n",
    "                    ingredient.replace(meat, to_veggie[meat])\n",
    "                    print('original: ', ingredient)\n",
    "                    print('replacement: ', ingredient.replace(meat, to_veggie[meat]))\n",
    "                    print('the step: ', step[1])\n",
    "                    ingredients[index] = ingredient.replace(meat, to_veggie[meat])\n",
    "                    print('new ingredients list: ', ingredients)\n",
    "                    print()\n",
    "                break\n",
    "    "
   ]
  },
  {
   "cell_type": "code",
   "execution_count": 172,
   "metadata": {},
   "outputs": [],
   "source": []
  },
  {
   "cell_type": "code",
   "execution_count": 173,
   "metadata": {},
   "outputs": [
    {
     "name": "stdout",
     "output_type": "stream",
     "text": [
      "[['Preheat oven to 350 degrees F (175 degrees C)', {'ingredient': [], 'cooking tools': ['oven'], 'cooking methods': ['Preheat'], 'time': []}], ['Fill a large pot with lightly salted water and bring to a rolling boil over high heat', {'ingredient': ['whole wheat, lasagna noodles '], 'cooking tools': ['pot'], 'cooking methods': ['boil', 'heat'], 'time': []}], [' Once the water is boiling, add the lasagna noodles a few at a time, and return to a boil', {'ingredient': ['whole wheat, lasagna noodles '], 'cooking tools': [], 'cooking methods': ['boiling'], 'time': []}], [' Cook the pasta uncovered, stirring occasionally, until the pasta has cooked through, but is still firm to the bite, about 10 minutes', {'ingredient': ['tomato-basil pasta sauce ', 'whole wheat, lasagna noodles '], 'cooking tools': [], 'cooking methods': ['Cook', 'uncovered', 'stirring'], 'time': ['10 minute']}], [' Remove the noodles to a plate', {'ingredient': ['whole wheat, lasagna noodles '], 'cooking tools': ['plate'], 'cooking methods': ['Remove'], 'time': []}], ['Place the ground beef into a skillet over medium heat, add the garlic, garlic powder, oregano, salt, and black pepper to the skillet', {'ingredient': ['tofu ', 'whole wheat, lasagna noodles ', 'garlic ', 'garlic powder ', 'dried oregano ', 'salt and ground black pepper to taste '], 'cooking tools': ['skillet'], 'cooking methods': ['heat'], 'time': []}], [' Cook the meat, chopping it into small chunks as it cooks, until no longer pink, about 10 minutes', {'ingredient': ['whole wheat, lasagna noodles '], 'cooking tools': [], 'cooking methods': ['Cook', 'chopping'], 'time': ['10 minute']}], [' Drain excess grease', {'ingredient': [], 'cooking tools': [], 'cooking methods': ['Drain'], 'time': []}], ['In a bowl, mix the cottage cheese, eggs, and Parmesan cheese until thoroughly combined', {'ingredient': ['whole wheat, lasagna noodles ', 'cottage cheese ', 'eggs, '], 'cooking tools': ['bowl'], 'cooking methods': ['mix', 'combined'], 'time': []}], ['Place 4 noodles side by side into the bottom of a 9x13-inch baking pan', {'ingredient': ['whole wheat, lasagna noodles '], 'cooking tools': ['pan'], 'cooking methods': ['baking'], 'time': []}], [' top with a layer of the tomato-basil sauce, a layer of ground beef mixture, and a layer of the cottage cheese mixture', {'ingredient': ['tomato-basil pasta sauce ', 'whole wheat, lasagna noodles ', 'tofu ', 'cottage cheese '], 'cooking tools': [], 'cooking methods': ['top', 'mixture'], 'time': []}], [' Repeat layers twice more, ending with a layer of sauce', {'ingredient': ['whole wheat, lasagna noodles ', 'tomato-basil pasta sauce '], 'cooking tools': [], 'cooking methods': [], 'time': []}], [' sprinkle top with the mozzarella cheese', {'ingredient': ['shredded mozzarella cheese ', 'cottage cheese '], 'cooking tools': [], 'cooking methods': ['sprinkle', 'top'], 'time': []}], [' Cover the dish with aluminum foil', {'ingredient': [], 'cooking tools': ['foil'], 'cooking methods': ['Cover'], 'time': []}], ['Bake in the preheated oven until the casserole is bubbling and the cheese has melted, about 30 minutes', {'ingredient': ['cottage cheese ', 'whole wheat, lasagna noodles '], 'cooking tools': ['oven'], 'cooking methods': ['Bake', 'preheated'], 'time': ['30 minute']}], [' Remove foil and bake until cheese has begun to brown, about 10 more minutes', {'ingredient': ['cottage cheese ', 'whole wheat, lasagna noodles '], 'cooking tools': ['foil'], 'cooking methods': ['Remove', 'bake', 'brown'], 'time': ['10 minute']}], [' Allow to stand at least 10 minutes before serving', {'ingredient': [], 'cooking tools': [], 'cooking methods': ['stand'], 'time': ['10 minute']}]]\n"
     ]
    }
   ],
   "source": [
    "modify_directions_veggies(tokenized_steps)"
   ]
  },
  {
   "cell_type": "code",
   "execution_count": 167,
   "metadata": {},
   "outputs": [
    {
     "data": {
      "text/plain": [
       "[['Preheat oven to 350 degrees F (175 degrees C)',\n",
       "  {'ingredient': [],\n",
       "   'cooking tools': ['oven'],\n",
       "   'cooking methods': ['Preheat'],\n",
       "   'time': []}],\n",
       " ['Fill a large pot with lightly salted water and bring to a rolling boil over high heat',\n",
       "  {'ingredient': ['whole wheat, lasagna noodles '],\n",
       "   'cooking tools': ['pot'],\n",
       "   'cooking methods': ['boil', 'heat'],\n",
       "   'time': []}],\n",
       " [' Once the water is boiling, add the lasagna noodles a few at a time, and return to a boil',\n",
       "  {'ingredient': ['whole wheat, lasagna noodles '],\n",
       "   'cooking tools': [],\n",
       "   'cooking methods': ['boiling'],\n",
       "   'time': []}],\n",
       " [' Cook the pasta uncovered, stirring occasionally, until the pasta has cooked through, but is still firm to the bite, about 10 minutes',\n",
       "  {'ingredient': ['tomato-basil pasta sauce ',\n",
       "    'whole wheat, lasagna noodles '],\n",
       "   'cooking tools': [],\n",
       "   'cooking methods': ['Cook', 'uncovered', 'stirring'],\n",
       "   'time': ['10 minute']}],\n",
       " [' Remove the noodles to a plate',\n",
       "  {'ingredient': ['whole wheat, lasagna noodles '],\n",
       "   'cooking tools': ['plate'],\n",
       "   'cooking methods': ['Remove'],\n",
       "   'time': []}],\n",
       " ['Place the ground beef into a skillet over medium heat, add the garlic, garlic powder, oregano, salt, and black pepper to the skillet',\n",
       "  {'ingredient': ['tofu ',\n",
       "    'whole wheat, lasagna noodles ',\n",
       "    'garlic ',\n",
       "    'garlic powder ',\n",
       "    'dried oregano ',\n",
       "    'salt and ground black pepper to taste '],\n",
       "   'cooking tools': ['skillet'],\n",
       "   'cooking methods': ['heat'],\n",
       "   'time': []}],\n",
       " [' Cook the meat, chopping it into small chunks as it cooks, until no longer pink, about 10 minutes',\n",
       "  {'ingredient': ['whole wheat, lasagna noodles '],\n",
       "   'cooking tools': [],\n",
       "   'cooking methods': ['Cook', 'chopping'],\n",
       "   'time': ['10 minute']}],\n",
       " [' Drain excess grease',\n",
       "  {'ingredient': [],\n",
       "   'cooking tools': [],\n",
       "   'cooking methods': ['Drain'],\n",
       "   'time': []}],\n",
       " ['In a bowl, mix the cottage cheese, eggs, and Parmesan cheese until thoroughly combined',\n",
       "  {'ingredient': ['whole wheat, lasagna noodles ',\n",
       "    'cottage cheese ',\n",
       "    'eggs, '],\n",
       "   'cooking tools': ['bowl'],\n",
       "   'cooking methods': ['mix', 'combined'],\n",
       "   'time': []}],\n",
       " ['Place 4 noodles side by side into the bottom of a 9x13-inch baking pan',\n",
       "  {'ingredient': ['whole wheat, lasagna noodles '],\n",
       "   'cooking tools': ['pan'],\n",
       "   'cooking methods': ['baking'],\n",
       "   'time': []}],\n",
       " [' top with a layer of the tomato-basil sauce, a layer of ground beef mixture, and a layer of the cottage cheese mixture',\n",
       "  {'ingredient': ['tomato-basil pasta sauce ',\n",
       "    'whole wheat, lasagna noodles ',\n",
       "    'tofu ',\n",
       "    'cottage cheese '],\n",
       "   'cooking tools': [],\n",
       "   'cooking methods': ['top', 'mixture'],\n",
       "   'time': []}],\n",
       " [' Repeat layers twice more, ending with a layer of sauce',\n",
       "  {'ingredient': ['whole wheat, lasagna noodles ',\n",
       "    'tomato-basil pasta sauce '],\n",
       "   'cooking tools': [],\n",
       "   'cooking methods': [],\n",
       "   'time': []}],\n",
       " [' sprinkle top with the mozzarella cheese',\n",
       "  {'ingredient': ['shredded mozzarella cheese ', 'cottage cheese '],\n",
       "   'cooking tools': [],\n",
       "   'cooking methods': ['sprinkle', 'top'],\n",
       "   'time': []}],\n",
       " [' Cover the dish with aluminum foil',\n",
       "  {'ingredient': [],\n",
       "   'cooking tools': ['foil'],\n",
       "   'cooking methods': ['Cover'],\n",
       "   'time': []}],\n",
       " ['Bake in the preheated oven until the casserole is bubbling and the cheese has melted, about 30 minutes',\n",
       "  {'ingredient': ['cottage cheese ', 'whole wheat, lasagna noodles '],\n",
       "   'cooking tools': ['oven'],\n",
       "   'cooking methods': ['Bake', 'preheated'],\n",
       "   'time': ['30 minute']}],\n",
       " [' Remove foil and bake until cheese has begun to brown, about 10 more minutes',\n",
       "  {'ingredient': ['cottage cheese ', 'whole wheat, lasagna noodles '],\n",
       "   'cooking tools': ['foil'],\n",
       "   'cooking methods': ['Remove', 'bake', 'brown'],\n",
       "   'time': ['10 minute']}],\n",
       " [' Allow to stand at least 10 minutes before serving',\n",
       "  {'ingredient': [],\n",
       "   'cooking tools': [],\n",
       "   'cooking methods': ['stand'],\n",
       "   'time': ['10 minute']}]]"
      ]
     },
     "execution_count": 167,
     "metadata": {},
     "output_type": "execute_result"
    }
   ],
   "source": [
    "tokenized_steps"
   ]
  },
  {
   "cell_type": "code",
   "execution_count": null,
   "metadata": {},
   "outputs": [],
   "source": []
  }
 ],
 "metadata": {
  "kernelspec": {
   "display_name": "Python 3",
   "language": "python",
   "name": "python3"
  },
  "language_info": {
   "codemirror_mode": {
    "name": "ipython",
    "version": 3
   },
   "file_extension": ".py",
   "mimetype": "text/x-python",
   "name": "python",
   "nbconvert_exporter": "python",
   "pygments_lexer": "ipython3",
   "version": "3.6.8"
  }
 },
 "nbformat": 4,
 "nbformat_minor": 2
}
