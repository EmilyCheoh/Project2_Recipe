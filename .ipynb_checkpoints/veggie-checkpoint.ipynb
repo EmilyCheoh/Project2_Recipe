{
 "cells": [
  {
   "cell_type": "code",
   "execution_count": 1,
   "metadata": {},
   "outputs": [],
   "source": [
    "to_veggie = {\n",
    "    'ground beef' : 'tofu',\n",
    "    'lean ground beef' : 'tofu',\n",
    "    'meat' : 'tofu',\n",
    "    'beef' : 'tofu',\n",
    "    'steak': 'mushroom',\n",
    "    'fish' : 'tofu',\n",
    "    'goat' : 'tofu',\n",
    "    'lamb' : 'tofu',\n",
    "    'meatball' : 'vegetarian meatball',\n",
    "    'pork' : 'tofu',\n",
    "    'poultry' : 'tofu',\n",
    "    'sausage' : 'vegetarian sausage',\n",
    "    'seafood' : 'tofu'\n",
    "}"
   ]
  },
  {
   "cell_type": "code",
   "execution_count": 2,
   "metadata": {},
   "outputs": [],
   "source": [
    "meats = [\n",
    "    'lean ground beef', \n",
    "    'ground beef','beef', \n",
    "    'fish', \n",
    "    'goat', \n",
    "    'lamb', \n",
    "    'meatball', \n",
    "    'pork', \n",
    "    'poultry', \n",
    "    'sausage', \n",
    "    'seafood']"
   ]
  },
  {
   "cell_type": "code",
   "execution_count": 13,
   "metadata": {},
   "outputs": [],
   "source": [
    "import script"
   ]
  },
  {
   "cell_type": "code",
   "execution_count": 43,
   "metadata": {},
   "outputs": [
    {
     "name": "stderr",
     "output_type": "stream",
     "text": [
      "/anaconda3/lib/python3.6/site-packages/bs4/__init__.py:181: UserWarning: No parser was explicitly specified, so I'm using the best available HTML parser for this system (\"lxml\"). This usually isn't a problem, but if you run this code on another system, or in a different virtual environment, it may use a different parser and behave differently.\n",
      "\n",
      "The code that caused this warning is on line 193 of the file /anaconda3/lib/python3.6/runpy.py. To get rid of this warning, change code that looks like this:\n",
      "\n",
      " BeautifulSoup(YOUR_MARKUP})\n",
      "\n",
      "to this:\n",
      "\n",
      " BeautifulSoup(YOUR_MARKUP, \"lxml\")\n",
      "\n",
      "  markup_type=markup_type))\n"
     ]
    },
    {
     "name": "stdout",
     "output_type": "stream",
     "text": [
      "Total Fat: 19.3g\n",
      "30 %\n",
      "Saturated Fat: 9.0g\n",
      "Cholesterol: 115mg\n",
      "38 %\n",
      "Sodium: 999mg\n",
      "40 %\n",
      "Potassium: 717mg\n",
      "20 %\n",
      "Total Carbohydrates: 47.1g\n",
      "15 %\n",
      "Dietary Fiber: 6.3g\n",
      "25 %\n",
      "Protein: 35.6g\n",
      "71 %\n",
      "Sugars: 12g\n",
      "Vitamin A: 855IU\n",
      "Vitamin C: 2mg\n",
      "Calcium: 361mg\n",
      "Iron: 4mg\n",
      "Thiamin: 0mg\n",
      "Niacin: 11mg\n",
      "Vitamin B6: 0mg\n",
      "Magnesium: 74mg\n",
      "Folate: 41mcg\n"
     ]
    }
   ],
   "source": [
    "keywords = 'meat lasagna'\n",
    "rf = script.RecipeFetcher()\n",
    "meat_lasagna = rf.search_recipes(keywords)[0]\n",
    "result = rf.scrape_recipe(meat_lasagna)"
   ]
  },
  {
   "cell_type": "code",
   "execution_count": 45,
   "metadata": {},
   "outputs": [
    {
     "name": "stdout",
     "output_type": "stream",
     "text": [
      "['12 whole wheat lasagna noodles', '1 pound lean ground beef', '2 cloves garlic, chopped', '1/2 teaspoon garlic powder', '1 teaspoon dried oregano, or to taste', 'salt and ground black pepper to taste', '1 (16 ounce) package cottage cheese', '2 eggs', '1/2 cup shredded Parmesan cheese', '1 1/2 (25 ounce) jars tomato-basil pasta sauce', '2 cups shredded mozzarella cheese']\n"
     ]
    }
   ],
   "source": [
    "ingredients = result['ingredients']\n",
    "print(ingredients)"
   ]
  },
  {
   "cell_type": "code",
   "execution_count": 24,
   "metadata": {},
   "outputs": [
    {
     "name": "stdout",
     "output_type": "stream",
     "text": [
      "12 whole wheat lasagna noodles\n",
      "['12', 'whole', 'wheat', 'lasagna', 'noodles']\n",
      "1 pound lean ground beef\n",
      "['1', 'pound', 'lean', 'ground', 'beef']\n",
      "2 cloves garlic, chopped\n",
      "['2', 'cloves', 'garlic,', 'chopped']\n",
      "1/2 teaspoon garlic powder\n",
      "['1/2', 'teaspoon', 'garlic', 'powder']\n",
      "1 teaspoon dried oregano, or to taste\n",
      "['1', 'teaspoon', 'dried', 'oregano,', 'or', 'to', 'taste']\n",
      "salt and ground black pepper to taste\n",
      "['salt', 'and', 'ground', 'black', 'pepper', 'to', 'taste']\n",
      "1 (16 ounce) package cottage cheese\n",
      "['1', '(16', 'ounce)', 'package', 'cottage', 'cheese']\n",
      "2 eggs\n",
      "['2', 'eggs']\n",
      "1/2 cup shredded Parmesan cheese\n",
      "['1/2', 'cup', 'shredded', 'Parmesan', 'cheese']\n",
      "1 1/2 (25 ounce) jars tomato-basil pasta sauce\n",
      "['1', '1/2', '(25', 'ounce)', 'jars', 'tomato-basil', 'pasta', 'sauce']\n",
      "2 cups shredded mozzarella cheese\n",
      "['2', 'cups', 'shredded', 'mozzarella', 'cheese']\n"
     ]
    }
   ],
   "source": [
    "parse_ingredient(result['ingredients'])"
   ]
  },
  {
   "cell_type": "code",
   "execution_count": 32,
   "metadata": {},
   "outputs": [],
   "source": [
    "from helper import *"
   ]
  },
  {
   "cell_type": "code",
   "execution_count": 71,
   "metadata": {},
   "outputs": [],
   "source": [
    "tokenized_ingredients = []\n",
    "\n",
    "for ing in ingredients:\n",
    "    tokenized_ingredients.append(tokenize_ingredient(ing))\n",
    "    "
   ]
  },
  {
   "cell_type": "code",
   "execution_count": 72,
   "metadata": {},
   "outputs": [
    {
     "name": "stdout",
     "output_type": "stream",
     "text": [
      "[{'ingredient_name': 'whole wheat, lasagna noodles ', 'quantity': '12 ', 'measurement': '', 'preparation': ''}, {'ingredient_name': 'lean ground beef ', 'quantity': '1 ', 'measurement': 'pound ', 'preparation': ''}, {'ingredient_name': 'garlic ', 'quantity': '2 ', 'measurement': 'cloves ', 'preparation': ' chopped'}, {'ingredient_name': 'garlic powder ', 'quantity': '1/2 ', 'measurement': 'teaspoon ', 'preparation': ''}, {'ingredient_name': 'dried oregano ', 'quantity': '1 ', 'measurement': 'teaspoon ', 'preparation': ' or to taste'}, {'ingredient_name': 'salt and ground black pepper to taste ', 'quantity': '', 'measurement': '', 'preparation': ''}, {'ingredient_name': 'cottage cheese ', 'quantity': '1 (16 ounce) ', 'measurement': 'package ', 'preparation': ''}, {'ingredient_name': 'eggs, ', 'quantity': '2 ', 'measurement': '', 'preparation': ''}, {'ingredient_name': 'shredded parmesan cheese ', 'quantity': '1/2 ', 'measurement': 'cup ', 'preparation': ''}, {'ingredient_name': 'tomato-basil pasta sauce ', 'quantity': '1 1/2 (25 ounce) ', 'measurement': 'jars ', 'preparation': ''}, {'ingredient_name': 'shredded mozzarella cheese ', 'quantity': '2 ', 'measurement': 'cups ', 'preparation': ''}]\n"
     ]
    },
    {
     "data": {
      "text/plain": [
       "['12 whole wheat lasagna noodles',\n",
       " '1 pound lean ground beef',\n",
       " '2 cloves garlic, chopped',\n",
       " '1/2 teaspoon garlic powder',\n",
       " '1 teaspoon dried oregano, or to taste',\n",
       " 'salt and ground black pepper to taste',\n",
       " '1 (16 ounce) package cottage cheese',\n",
       " '2 eggs',\n",
       " '1/2 cup shredded Parmesan cheese',\n",
       " '1 1/2 (25 ounce) jars tomato-basil pasta sauce',\n",
       " '2 cups shredded mozzarella cheese']"
      ]
     },
     "execution_count": 72,
     "metadata": {},
     "output_type": "execute_result"
    }
   ],
   "source": [
    "print(tokenized_ingredients)\n",
    "ingredients"
   ]
  },
  {
   "cell_type": "code",
   "execution_count": 77,
   "metadata": {},
   "outputs": [],
   "source": [
    "def change_to_veggie_ingredient(tokenized_ingredients_list):\n",
    "    for i, ingredient in enumerate(tokenized_ingredients):\n",
    "        ingredient_name = ingredient['ingredient_name']\n",
    "        for meat in meats:\n",
    "            if meat in ingredient_name.lower():\n",
    "#                 print(ingredient)\n",
    "#                 print()\n",
    "                ingredient['ingredient_name'] = to_veggie[meat]\n",
    "    #             veggie_ingredient = ingredient_name.replace(meat, to_veggie[meat])\n",
    "#                 print('new veggie ingredient: ')\n",
    "#                 print(veggie_ingredient)\n",
    "#         print(ingredient)\n",
    "#     print('final')\n",
    "#     print(tokenized_ingredients)\n",
    "    return tokenized_ingredients\n",
    "            \n",
    "    "
   ]
  },
  {
   "cell_type": "code",
   "execution_count": 78,
   "metadata": {},
   "outputs": [
    {
     "data": {
      "text/plain": [
       "[{'ingredient_name': 'whole wheat, lasagna noodles ',\n",
       "  'quantity': '12 ',\n",
       "  'measurement': '',\n",
       "  'preparation': ''},\n",
       " {'ingredient_name': 'tofu',\n",
       "  'quantity': '1 ',\n",
       "  'measurement': 'pound ',\n",
       "  'preparation': ''},\n",
       " {'ingredient_name': 'garlic ',\n",
       "  'quantity': '2 ',\n",
       "  'measurement': 'cloves ',\n",
       "  'preparation': ' chopped'},\n",
       " {'ingredient_name': 'garlic powder ',\n",
       "  'quantity': '1/2 ',\n",
       "  'measurement': 'teaspoon ',\n",
       "  'preparation': ''},\n",
       " {'ingredient_name': 'dried oregano ',\n",
       "  'quantity': '1 ',\n",
       "  'measurement': 'teaspoon ',\n",
       "  'preparation': ' or to taste'},\n",
       " {'ingredient_name': 'salt and ground black pepper to taste ',\n",
       "  'quantity': '',\n",
       "  'measurement': '',\n",
       "  'preparation': ''},\n",
       " {'ingredient_name': 'cottage cheese ',\n",
       "  'quantity': '1 (16 ounce) ',\n",
       "  'measurement': 'package ',\n",
       "  'preparation': ''},\n",
       " {'ingredient_name': 'eggs, ',\n",
       "  'quantity': '2 ',\n",
       "  'measurement': '',\n",
       "  'preparation': ''},\n",
       " {'ingredient_name': 'shredded parmesan cheese ',\n",
       "  'quantity': '1/2 ',\n",
       "  'measurement': 'cup ',\n",
       "  'preparation': ''},\n",
       " {'ingredient_name': 'tomato-basil pasta sauce ',\n",
       "  'quantity': '1 1/2 (25 ounce) ',\n",
       "  'measurement': 'jars ',\n",
       "  'preparation': ''},\n",
       " {'ingredient_name': 'shredded mozzarella cheese ',\n",
       "  'quantity': '2 ',\n",
       "  'measurement': 'cups ',\n",
       "  'preparation': ''}]"
      ]
     },
     "execution_count": 78,
     "metadata": {},
     "output_type": "execute_result"
    }
   ],
   "source": [
    "change_to_veggie_ingredient(tokenized_ingredients)"
   ]
  },
  {
   "cell_type": "code",
   "execution_count": 84,
   "metadata": {},
   "outputs": [
    {
     "name": "stdout",
     "output_type": "stream",
     "text": [
      "[['Preheat oven to 350 degrees F (175 degrees C)', {'ingredient': [], 'cooking tools': ['oven'], 'cooking methods': ['Preheat'], 'time': []}], ['Fill a large pot with lightly salted water and bring to a rolling boil over high heat', {'ingredient': ['whole wheat, lasagna noodles '], 'cooking tools': ['pot'], 'cooking methods': ['boil', 'heat'], 'time': []}], [' Once the water is boiling, add the lasagna noodles a few at a time, and return to a boil', {'ingredient': ['whole wheat, lasagna noodles '], 'cooking tools': [], 'cooking methods': ['boiling'], 'time': []}], [' Cook the pasta uncovered, stirring occasionally, until the pasta has cooked through, but is still firm to the bite, about 10 minutes', {'ingredient': ['tomato-basil pasta sauce ', 'whole wheat, lasagna noodles '], 'cooking tools': [], 'cooking methods': ['Cook', 'uncovered', 'stirring'], 'time': ['10 minute']}], [' Remove the noodles to a plate', {'ingredient': ['whole wheat, lasagna noodles '], 'cooking tools': ['plate'], 'cooking methods': ['Remove'], 'time': []}], ['Place the ground beef into a skillet over medium heat, add the garlic, garlic powder, oregano, salt, and black pepper to the skillet', {'ingredient': ['salt and ground black pepper to taste ', 'whole wheat, lasagna noodles ', 'garlic ', 'garlic powder ', 'dried oregano '], 'cooking tools': ['skillet'], 'cooking methods': ['heat'], 'time': []}], [' Cook the meat, chopping it into small chunks as it cooks, until no longer pink, about 10 minutes', {'ingredient': ['whole wheat, lasagna noodles '], 'cooking tools': [], 'cooking methods': ['Cook', 'chopping'], 'time': ['10 minute']}], [' Drain excess grease', {'ingredient': [], 'cooking tools': [], 'cooking methods': ['Drain'], 'time': []}], ['In a bowl, mix the cottage cheese, eggs, and Parmesan cheese until thoroughly combined', {'ingredient': ['whole wheat, lasagna noodles ', 'cottage cheese ', 'eggs, '], 'cooking tools': ['bowl'], 'cooking methods': ['mix', 'combined'], 'time': []}], ['Place 4 noodles side by side into the bottom of a 9x13-inch baking pan', {'ingredient': ['whole wheat, lasagna noodles '], 'cooking tools': ['pan'], 'cooking methods': ['baking'], 'time': []}], [' top with a layer of the tomato-basil sauce, a layer of ground beef mixture, and a layer of the cottage cheese mixture', {'ingredient': ['tomato-basil pasta sauce ', 'whole wheat, lasagna noodles ', 'salt and ground black pepper to taste ', 'cottage cheese '], 'cooking tools': [], 'cooking methods': ['top', 'mixture'], 'time': []}], [' Repeat layers twice more, ending with a layer of sauce', {'ingredient': ['whole wheat, lasagna noodles ', 'tomato-basil pasta sauce '], 'cooking tools': [], 'cooking methods': [], 'time': []}], [' sprinkle top with the mozzarella cheese', {'ingredient': ['shredded mozzarella cheese ', 'cottage cheese '], 'cooking tools': [], 'cooking methods': ['sprinkle', 'top'], 'time': []}], [' Cover the dish with aluminum foil', {'ingredient': [], 'cooking tools': ['foil'], 'cooking methods': ['Cover'], 'time': []}], ['Bake in the preheated oven until the casserole is bubbling and the cheese has melted, about 30 minutes', {'ingredient': ['cottage cheese ', 'whole wheat, lasagna noodles '], 'cooking tools': ['oven'], 'cooking methods': ['Bake', 'preheated'], 'time': ['30 minute']}], [' Remove foil and bake until cheese has begun to brown, about 10 more minutes', {'ingredient': ['cottage cheese ', 'whole wheat, lasagna noodles '], 'cooking tools': ['foil'], 'cooking methods': ['Remove', 'bake', 'brown'], 'time': ['10 minute']}], [' Allow to stand at least 10 minutes before serving', {'ingredient': [], 'cooking tools': [], 'cooking methods': ['stand'], 'time': ['10 minute']}]]\n"
     ]
    }
   ],
   "source": [
    "ingredientss = []\n",
    "for ingredient in tokenized_ingredients:\n",
    "    ingredientss.append(ingredient['ingredient_name'])\n",
    "#     print(ingredient['ingredient_name'])\n",
    "directions = result['directions']\n",
    "tools, methods, steps = get_steps(directions, ingredientss)\n",
    "print(steps)"
   ]
  },
  {
   "cell_type": "code",
   "execution_count": null,
   "metadata": {},
   "outputs": [],
   "source": [
    "def change_to_veggie_steps(tokenized_ingredients_list):\n",
    "    for i, ingredient in enumerate(tokenized_ingredients):\n",
    "        ingredient_name = ingredient['ingredient_name']\n",
    "        for meat in meats:\n",
    "            if meat in ingredient_name.lower():\n",
    "#                 print(ingredient)\n",
    "#                 print()\n",
    "                ingredient['ingredient_name'] = to_veggie[meat]\n",
    "    #             veggie_ingredient = ingredient_name.replace(meat, to_veggie[meat])\n",
    "#                 print('new veggie ingredient: ')\n",
    "#                 print(veggie_ingredient)\n",
    "#         print(ingredient)\n",
    "#     print('final')\n",
    "#     print(tokenized_ingredients)\n",
    "    return tokenized_ingredients"
   ]
  }
 ],
 "metadata": {
  "kernelspec": {
   "display_name": "Python 3",
   "language": "python",
   "name": "python3"
  },
  "language_info": {
   "codemirror_mode": {
    "name": "ipython",
    "version": 3
   },
   "file_extension": ".py",
   "mimetype": "text/x-python",
   "name": "python",
   "nbconvert_exporter": "python",
   "pygments_lexer": "ipython3",
   "version": "3.6.8"
  }
 },
 "nbformat": 4,
 "nbformat_minor": 2
}
