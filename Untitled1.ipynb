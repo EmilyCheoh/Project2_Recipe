{
 "cells": [
  {
   "cell_type": "code",
   "execution_count": 19,
   "metadata": {},
   "outputs": [],
   "source": [
    "from helper import *\n",
    "import script\n",
    "\n",
    "\n",
    "def get_recipe(name):\n",
    "    rf = script.RecipeFetcher()\n",
    "    recipe = rf.search_recipes(name)[0]\n",
    "    result = rf.scrape_recipe(recipe)\n",
    "    ingredients = result['ingredients']\n",
    "    directions = result['directions']\n",
    "    return ingredients, directions"
   ]
  },
  {
   "cell_type": "code",
   "execution_count": 39,
   "metadata": {},
   "outputs": [
    {
     "name": "stderr",
     "output_type": "stream",
     "text": [
      "/anaconda3/lib/python3.6/site-packages/bs4/__init__.py:181: UserWarning: No parser was explicitly specified, so I'm using the best available HTML parser for this system (\"lxml\"). This usually isn't a problem, but if you run this code on another system, or in a different virtual environment, it may use a different parser and behave differently.\n",
      "\n",
      "The code that caused this warning is on line 193 of the file /anaconda3/lib/python3.6/runpy.py. To get rid of this warning, change code that looks like this:\n",
      "\n",
      " BeautifulSoup(YOUR_MARKUP})\n",
      "\n",
      "to this:\n",
      "\n",
      " BeautifulSoup(YOUR_MARKUP, \"lxml\")\n",
      "\n",
      "  markup_type=markup_type))\n"
     ]
    }
   ],
   "source": [
    "ing, steps = get_recipe('meat lasagna')"
   ]
  },
  {
   "cell_type": "code",
   "execution_count": 248,
   "metadata": {},
   "outputs": [
    {
     "data": {
      "text/plain": [
       "(['12 whole wheat lasagna noodles',\n",
       "  '1 pound lean ground beef',\n",
       "  '2 cloves garlic, chopped',\n",
       "  '1/2 teaspoon garlic powder',\n",
       "  '1 teaspoon dried oregano, or to taste',\n",
       "  'salt and ground black pepper to taste',\n",
       "  '1 (16 ounce) package cottage cheese',\n",
       "  '2 eggs',\n",
       "  '1/2 cup shredded Parmesan cheese',\n",
       "  '1 1/2 (25 ounce) jars tomato-basil pasta sauce',\n",
       "  '2 cups shredded mozzarella cheese'],\n",
       " ['Preheat oven to 350 degrees F (175 degrees C).',\n",
       "  'Fill a large pot with lightly salted water and bring to a rolling boil over high heat. Once the water is boiling, add the lasagna noodles a few at a time, and return to a boil. Cook the pasta uncovered, stirring occasionally, until the pasta has cooked through, but is still firm to the bite, about 10 minutes. Remove the noodles to a plate.',\n",
       "  'Place the ground beef into a skillet over medium heat, add the garlic, garlic powder, oregano, salt, and black pepper to the skillet. Cook the meat, chopping it into small chunks as it cooks, until no longer pink, about 10 minutes. Drain excess grease.',\n",
       "  'In a bowl, mix the cottage cheese, eggs, and Parmesan cheese until thoroughly combined.',\n",
       "  'Place 4 noodles side by side into the bottom of a 9x13-inch baking pan; top with a layer of the tomato-basil sauce, a layer of ground beef mixture, and a layer of the cottage cheese mixture. Repeat layers twice more, ending with a layer of sauce; sprinkle top with the mozzarella cheese. Cover the dish with aluminum foil.',\n",
       "  'Bake in the preheated oven until the casserole is bubbling and the cheese has melted, about 30 minutes. Remove foil and bake until cheese has begun to brown, about 10 more minutes. Allow to stand at least 10 minutes before serving.'])"
      ]
     },
     "execution_count": 248,
     "metadata": {},
     "output_type": "execute_result"
    }
   ],
   "source": [
    " ing, steps"
   ]
  },
  {
   "cell_type": "code",
   "execution_count": 41,
   "metadata": {},
   "outputs": [],
   "source": [
    "to_veggie = {\n",
    "    'ground beef' : 'tofu',\n",
    "    'lean ground beef' : 'tofu',\n",
    "    'meat' : 'tofu',\n",
    "    'beef' : 'tofu',\n",
    "    'steak': 'mushroom',\n",
    "    'fish' : 'tofu',\n",
    "    'goat' : 'tofu',\n",
    "    'lamb' : 'tofu',\n",
    "    'meatball' : 'vegetarian meatball',\n",
    "    'pork' : 'tofu',\n",
    "    'poultry' : 'tofu',\n",
    "    'sausage' : 'vegetarian sausage',\n",
    "    'seafood' : 'tofu',\n",
    "    'chicken broth' : 'vegetable broths'\n",
    "}\n",
    "\n",
    "meats = [\n",
    "    'lean ground beef', \n",
    "    'ground beef','beef', \n",
    "    'fish', \n",
    "    'goat', \n",
    "    'lamb', \n",
    "    'meatball', \n",
    "    'pork', \n",
    "    'poultry', \n",
    "    'sausage', \n",
    "    'seafood',\n",
    "    'chicken broth']\n",
    "\n",
    "# returns vegetarian recipe\n",
    "def to_veggie_ingredient(ingredients_lst):\n",
    "    tokenized_ingredients = []\n",
    "    for ing in ingredients_lst:\n",
    "        tokenized_ingredients.append(tokenize_ingredient(ing))\n",
    "    for ingredient in tokenized_ingredients:\n",
    "        ingredient_name = ingredient['ingredient_name']\n",
    "        for meat in meats:\n",
    "            if meat in ingredient_name.lower():\n",
    "                ingredient['ingredient_name'] = to_veggie[meat]\n",
    "    return tokenized_ingredients"
   ]
  },
  {
   "cell_type": "code",
   "execution_count": 42,
   "metadata": {},
   "outputs": [
    {
     "data": {
      "text/plain": [
       "[{'ingredient_name': 'whole wheat, lasagna noodles ',\n",
       "  'quantity': '12 ',\n",
       "  'measurement': '',\n",
       "  'preparation': ''},\n",
       " {'ingredient_name': 'tofu',\n",
       "  'quantity': '1 ',\n",
       "  'measurement': 'pound ',\n",
       "  'preparation': ''},\n",
       " {'ingredient_name': 'garlic ',\n",
       "  'quantity': '2 ',\n",
       "  'measurement': 'cloves ',\n",
       "  'preparation': ' chopped'},\n",
       " {'ingredient_name': 'garlic powder ',\n",
       "  'quantity': '1/2 ',\n",
       "  'measurement': 'teaspoon ',\n",
       "  'preparation': ''},\n",
       " {'ingredient_name': 'dried oregano ',\n",
       "  'quantity': '1 ',\n",
       "  'measurement': 'teaspoon ',\n",
       "  'preparation': ' or to taste'},\n",
       " {'ingredient_name': 'salt and ground black pepper to taste ',\n",
       "  'quantity': '',\n",
       "  'measurement': '',\n",
       "  'preparation': ''},\n",
       " {'ingredient_name': 'cottage cheese ',\n",
       "  'quantity': '1 (16 ounce) ',\n",
       "  'measurement': 'package ',\n",
       "  'preparation': ''},\n",
       " {'ingredient_name': 'eggs, ',\n",
       "  'quantity': '2 ',\n",
       "  'measurement': '',\n",
       "  'preparation': ''},\n",
       " {'ingredient_name': 'shredded parmesan cheese ',\n",
       "  'quantity': '1/2 ',\n",
       "  'measurement': 'cup ',\n",
       "  'preparation': ''},\n",
       " {'ingredient_name': 'tomato-basil pasta sauce ',\n",
       "  'quantity': '1 1/2 (25 ounce) ',\n",
       "  'measurement': 'jars ',\n",
       "  'preparation': ''},\n",
       " {'ingredient_name': 'shredded mozzarella cheese ',\n",
       "  'quantity': '2 ',\n",
       "  'measurement': 'cups ',\n",
       "  'preparation': ''}]"
      ]
     },
     "execution_count": 42,
     "metadata": {},
     "output_type": "execute_result"
    }
   ],
   "source": [
    "to_veggie_ingredient(ing)"
   ]
  },
  {
   "cell_type": "code",
   "execution_count": 169,
   "metadata": {},
   "outputs": [],
   "source": [
    "def modify_directions_veggies(ingredients_lst, directions_lst):\n",
    "    tools, methods, tokenized_steps = get_steps(directions_lst, ingredients_lst)\n",
    "    print(tokenized_steps)"
   ]
  },
  {
   "cell_type": "code",
   "execution_count": 256,
   "metadata": {
    "scrolled": true
   },
   "outputs": [
    {
     "ename": "TypeError",
     "evalue": "modify_directions_veggies() takes 1 positional argument but 2 were given",
     "output_type": "error",
     "traceback": [
      "\u001b[0;31m---------------------------------------------------------------------------\u001b[0m",
      "\u001b[0;31mTypeError\u001b[0m                                 Traceback (most recent call last)",
      "\u001b[0;32m<ipython-input-256-f3f6e30ec19c>\u001b[0m in \u001b[0;36m<module>\u001b[0;34m()\u001b[0m\n\u001b[0;32m----> 1\u001b[0;31m \u001b[0mmodify_directions_veggies\u001b[0m\u001b[0;34m(\u001b[0m\u001b[0ming\u001b[0m\u001b[0;34m,\u001b[0m \u001b[0msteps\u001b[0m\u001b[0;34m)\u001b[0m\u001b[0;34m\u001b[0m\u001b[0;34m\u001b[0m\u001b[0m\n\u001b[0m",
      "\u001b[0;31mTypeError\u001b[0m: modify_directions_veggies() takes 1 positional argument but 2 were given"
     ]
    }
   ],
   "source": [
    "modify_directions_veggies(ing, steps)"
   ]
  },
  {
   "cell_type": "code",
   "execution_count": 54,
   "metadata": {},
   "outputs": [],
   "source": [
    "def get_tokenized_ingredients_and_steps(ingredients_lst, directions_lst):\n",
    "    tokenized_ingredients = []\n",
    "    for ing in ingredients_lst:\n",
    "        tokenized_ingredients.append(tokenize_ingredient(ing))\n",
    "    ingredient_names = []\n",
    "    for ingredient in tokenized_ingredients:\n",
    "        ingredient_names.append(ingredient['ingredient_name'])\n",
    "    tools, methods, tokenized_steps = get_steps(directions_lst, ingredient_names)\n",
    "    return tokenized_ingredients, tokenized_steps"
   ]
  },
  {
   "cell_type": "code",
   "execution_count": 203,
   "metadata": {},
   "outputs": [],
   "source": [
    "tokenized_ingredients, tokenized_steps = get_tokenized_ingredients_and_steps(ing, steps)"
   ]
  },
  {
   "cell_type": "code",
   "execution_count": 56,
   "metadata": {},
   "outputs": [
    {
     "data": {
      "text/plain": [
       "[['Preheat oven to 350 degrees F (175 degrees C)',\n",
       "  {'ingredient': [],\n",
       "   'cooking tools': ['oven'],\n",
       "   'cooking methods': ['Preheat'],\n",
       "   'time': []}],\n",
       " ['Fill a large pot with lightly salted water and bring to a rolling boil over high heat',\n",
       "  {'ingredient': ['whole wheat, lasagna noodles '],\n",
       "   'cooking tools': ['pot'],\n",
       "   'cooking methods': ['boil', 'heat'],\n",
       "   'time': []}],\n",
       " [' Once the water is boiling, add the lasagna noodles a few at a time, and return to a boil',\n",
       "  {'ingredient': ['whole wheat, lasagna noodles '],\n",
       "   'cooking tools': [],\n",
       "   'cooking methods': ['boiling'],\n",
       "   'time': []}],\n",
       " [' Cook the pasta uncovered, stirring occasionally, until the pasta has cooked through, but is still firm to the bite, about 10 minutes',\n",
       "  {'ingredient': ['tomato-basil pasta sauce ',\n",
       "    'whole wheat, lasagna noodles '],\n",
       "   'cooking tools': [],\n",
       "   'cooking methods': ['Cook', 'uncovered', 'stirring'],\n",
       "   'time': ['10 minute']}],\n",
       " [' Remove the noodles to a plate',\n",
       "  {'ingredient': ['whole wheat, lasagna noodles '],\n",
       "   'cooking tools': ['plate'],\n",
       "   'cooking methods': ['Remove'],\n",
       "   'time': []}],\n",
       " ['Place the ground beef into a skillet over medium heat, add the garlic, garlic powder, oregano, salt, and black pepper to the skillet',\n",
       "  {'ingredient': ['lean ground beef ',\n",
       "    'whole wheat, lasagna noodles ',\n",
       "    'garlic ',\n",
       "    'garlic powder ',\n",
       "    'dried oregano ',\n",
       "    'salt and ground black pepper to taste '],\n",
       "   'cooking tools': ['skillet'],\n",
       "   'cooking methods': ['heat'],\n",
       "   'time': []}],\n",
       " [' Cook the meat, chopping it into small chunks as it cooks, until no longer pink, about 10 minutes',\n",
       "  {'ingredient': ['whole wheat, lasagna noodles '],\n",
       "   'cooking tools': [],\n",
       "   'cooking methods': ['Cook', 'chopping'],\n",
       "   'time': ['10 minute']}],\n",
       " [' Drain excess grease',\n",
       "  {'ingredient': [],\n",
       "   'cooking tools': [],\n",
       "   'cooking methods': ['Drain'],\n",
       "   'time': []}],\n",
       " ['In a bowl, mix the cottage cheese, eggs, and Parmesan cheese until thoroughly combined',\n",
       "  {'ingredient': ['whole wheat, lasagna noodles ',\n",
       "    'cottage cheese ',\n",
       "    'eggs, '],\n",
       "   'cooking tools': ['bowl'],\n",
       "   'cooking methods': ['mix', 'combined'],\n",
       "   'time': []}],\n",
       " ['Place 4 noodles side by side into the bottom of a 9x13-inch baking pan',\n",
       "  {'ingredient': ['whole wheat, lasagna noodles '],\n",
       "   'cooking tools': ['pan'],\n",
       "   'cooking methods': ['baking'],\n",
       "   'time': []}],\n",
       " [' top with a layer of the tomato-basil sauce, a layer of ground beef mixture, and a layer of the cottage cheese mixture',\n",
       "  {'ingredient': ['tomato-basil pasta sauce ',\n",
       "    'whole wheat, lasagna noodles ',\n",
       "    'lean ground beef ',\n",
       "    'cottage cheese '],\n",
       "   'cooking tools': [],\n",
       "   'cooking methods': ['top', 'mixture'],\n",
       "   'time': []}],\n",
       " [' Repeat layers twice more, ending with a layer of sauce',\n",
       "  {'ingredient': ['whole wheat, lasagna noodles ',\n",
       "    'tomato-basil pasta sauce '],\n",
       "   'cooking tools': [],\n",
       "   'cooking methods': [],\n",
       "   'time': []}],\n",
       " [' sprinkle top with the mozzarella cheese',\n",
       "  {'ingredient': ['shredded mozzarella cheese ', 'cottage cheese '],\n",
       "   'cooking tools': [],\n",
       "   'cooking methods': ['sprinkle', 'top'],\n",
       "   'time': []}],\n",
       " [' Cover the dish with aluminum foil',\n",
       "  {'ingredient': [],\n",
       "   'cooking tools': ['foil'],\n",
       "   'cooking methods': ['Cover'],\n",
       "   'time': []}],\n",
       " ['Bake in the preheated oven until the casserole is bubbling and the cheese has melted, about 30 minutes',\n",
       "  {'ingredient': ['cottage cheese ', 'whole wheat, lasagna noodles '],\n",
       "   'cooking tools': ['oven'],\n",
       "   'cooking methods': ['Bake', 'preheated'],\n",
       "   'time': ['30 minute']}],\n",
       " [' Remove foil and bake until cheese has begun to brown, about 10 more minutes',\n",
       "  {'ingredient': ['cottage cheese ', 'whole wheat, lasagna noodles '],\n",
       "   'cooking tools': ['foil'],\n",
       "   'cooking methods': ['Remove', 'bake', 'brown'],\n",
       "   'time': ['10 minute']}],\n",
       " [' Allow to stand at least 10 minutes before serving',\n",
       "  {'ingredient': [],\n",
       "   'cooking tools': [],\n",
       "   'cooking methods': ['stand'],\n",
       "   'time': ['10 minute']}]]"
      ]
     },
     "execution_count": 56,
     "metadata": {},
     "output_type": "execute_result"
    }
   ],
   "source": [
    "tokenized_steps"
   ]
  },
  {
   "cell_type": "code",
   "execution_count": 48,
   "metadata": {},
   "outputs": [
    {
     "data": {
      "text/plain": [
       "[{'ingredient_name': 'preheat oven to degrees, f degrees, c . ',\n",
       "  'quantity': '350 175 ',\n",
       "  'measurement': '',\n",
       "  'preparation': ''},\n",
       " {'ingredient_name': 'fill a large pot with lightly salted water and bring to a rolling boil over high heat . once the water is boiling cook the pasta uncovered remove the noodles to a plate . ',\n",
       "  'quantity': '',\n",
       "  'measurement': '',\n",
       "  'preparation': ' stirring occasionally'},\n",
       " {'ingredient_name': 'place the ground beef into a skillet over medium heat cook the meat drain excess grease . ',\n",
       "  'quantity': '',\n",
       "  'measurement': '',\n",
       "  'preparation': ' chopping it into small chunks as it cooks'},\n",
       " {'ingredient_name': 'in a bowl ',\n",
       "  'quantity': '',\n",
       "  'measurement': '',\n",
       "  'preparation': ' mix the cottage cheese'},\n",
       " {'ingredient_name': 'place noodles, side by side into the bottom of a 9x13-inch baking pan ; top with a layer of the tomato-basil sauce repeat layers twice more cover the dish with aluminum foil . ',\n",
       "  'quantity': '4 ',\n",
       "  'measurement': '',\n",
       "  'preparation': ' ending with a layer of sauce; sprinkle top with the mozzarella cheese.'},\n",
       " {'ingredient_name': 'bake in the preheated oven until the casserole is bubbling and the cheese has melted remove foil and bake until cheese has begun to brown allow to stand at least minutes, before serving . ',\n",
       "  'quantity': '10 ',\n",
       "  'measurement': '',\n",
       "  'preparation': ' about 10 more minutes.'}]"
      ]
     },
     "execution_count": 48,
     "metadata": {},
     "output_type": "execute_result"
    }
   ],
   "source": [
    "tokenized_steps"
   ]
  },
  {
   "cell_type": "code",
   "execution_count": 57,
   "metadata": {},
   "outputs": [
    {
     "data": {
      "text/plain": [
       "'Place the ground beef into a skillet over medium heat, add the garlic, garlic powder, oregano, salt, and black pepper to the skillet. Cook the meat, chopping it into small chunks as it cooks, until no longer pink, about 10 minutes. Drain excess grease.'"
      ]
     },
     "execution_count": 57,
     "metadata": {},
     "output_type": "execute_result"
    }
   ],
   "source": [
    "'Place the ground beef into a skillet over medium heat, add the garlic, garlic powder, oregano, salt, and black pepper to the skillet. Cook the meat, chopping it into small chunks as it cooks, until no longer pink, about 10 minutes. Drain excess grease.'"
   ]
  },
  {
   "cell_type": "code",
   "execution_count": 58,
   "metadata": {},
   "outputs": [
    {
     "data": {
      "text/plain": [
       "['Place the ground beef into a skillet over medium heat, add the garlic, garlic powder, oregano, salt, and black pepper to the skillet',\n",
       " {'ingredient': ['lean ground beef ',\n",
       "   'whole wheat, lasagna noodles ',\n",
       "   'garlic ',\n",
       "   'garlic powder ',\n",
       "   'dried oregano ',\n",
       "   'salt and ground black pepper to taste '],\n",
       "  'cooking tools': ['skillet'],\n",
       "  'cooking methods': ['heat'],\n",
       "  'time': []}]"
      ]
     },
     "execution_count": 58,
     "metadata": {},
     "output_type": "execute_result"
    }
   ],
   "source": [
    "['Place the ground beef into a skillet over medium heat, add the garlic, garlic powder, oregano, salt, and black pepper to the skillet',\n",
    "  {'ingredient': ['lean ground beef ',\n",
    "    'whole wheat, lasagna noodles ',\n",
    "    'garlic ',\n",
    "    'garlic powder ',\n",
    "    'dried oregano ',\n",
    "    'salt and ground black pepper to taste '],\n",
    "   'cooking tools': ['skillet'],\n",
    "   'cooking methods': ['heat'],\n",
    "   'time': []}]"
   ]
  },
  {
   "cell_type": "code",
   "execution_count": 245,
   "metadata": {},
   "outputs": [],
   "source": [
    "def modify_directions_veggies(steps):\n",
    "    steps_copy = copy.deepcopy(steps)\n",
    "    for step in steps_copy:\n",
    "        ingredients = step[1]['ingredient']\n",
    "        for index, ingredient in enumerate(ingredients):\n",
    "            for meat in meats:\n",
    "                if meat in ingredient.lower():\n",
    "                    ingredients[index] = ingredient.replace(meat, to_veggie[meat])\n",
    "                break\n",
    "        instruction = step[0]\n",
    "        for meat in meats:\n",
    "            if meat in instruction.lower():\n",
    "                step[0] = instruction.replace(meat, to_veggie[meat])\n",
    "                break\n",
    "    return steps_copy"
   ]
  },
  {
   "cell_type": "code",
   "execution_count": 246,
   "metadata": {},
   "outputs": [],
   "source": [
    "import copy \n",
    "tokenized_ingredients, tokenized_steps = get_tokenized_ingredients_and_steps(ing, steps)"
   ]
  },
  {
   "cell_type": "code",
   "execution_count": 247,
   "metadata": {},
   "outputs": [
    {
     "data": {
      "text/plain": [
       "[['Preheat oven to 350 degrees F (175 degrees C)',\n",
       "  {'ingredient': [],\n",
       "   'cooking tools': ['oven'],\n",
       "   'cooking methods': ['Preheat'],\n",
       "   'time': []}],\n",
       " ['Fill a large pot with lightly salted water and bring to a rolling boil over high heat',\n",
       "  {'ingredient': ['whole wheat, lasagna noodles '],\n",
       "   'cooking tools': ['pot'],\n",
       "   'cooking methods': ['boil', 'heat'],\n",
       "   'time': []}],\n",
       " [' Once the water is boiling, add the lasagna noodles a few at a time, and return to a boil',\n",
       "  {'ingredient': ['whole wheat, lasagna noodles '],\n",
       "   'cooking tools': [],\n",
       "   'cooking methods': ['boiling'],\n",
       "   'time': []}],\n",
       " [' Cook the pasta uncovered, stirring occasionally, until the pasta has cooked through, but is still firm to the bite, about 10 minutes',\n",
       "  {'ingredient': ['tomato-basil pasta sauce ',\n",
       "    'whole wheat, lasagna noodles '],\n",
       "   'cooking tools': [],\n",
       "   'cooking methods': ['Cook', 'uncovered', 'stirring'],\n",
       "   'time': ['10 minute']}],\n",
       " [' Remove the noodles to a plate',\n",
       "  {'ingredient': ['whole wheat, lasagna noodles '],\n",
       "   'cooking tools': ['plate'],\n",
       "   'cooking methods': ['Remove'],\n",
       "   'time': []}],\n",
       " ['Place the tofu into a skillet over medium heat, add the garlic, garlic powder, oregano, salt, and black pepper to the skillet',\n",
       "  {'ingredient': ['tofu ',\n",
       "    'whole wheat, lasagna noodles ',\n",
       "    'garlic ',\n",
       "    'garlic powder ',\n",
       "    'dried oregano ',\n",
       "    'salt and ground black pepper to taste '],\n",
       "   'cooking tools': ['skillet'],\n",
       "   'cooking methods': ['heat'],\n",
       "   'time': []}],\n",
       " [' Cook the meat, chopping it into small chunks as it cooks, until no longer pink, about 10 minutes',\n",
       "  {'ingredient': ['whole wheat, lasagna noodles '],\n",
       "   'cooking tools': [],\n",
       "   'cooking methods': ['Cook', 'chopping'],\n",
       "   'time': ['10 minute']}],\n",
       " [' Drain excess grease',\n",
       "  {'ingredient': [],\n",
       "   'cooking tools': [],\n",
       "   'cooking methods': ['Drain'],\n",
       "   'time': []}],\n",
       " ['In a bowl, mix the cottage cheese, eggs, and Parmesan cheese until thoroughly combined',\n",
       "  {'ingredient': ['whole wheat, lasagna noodles ',\n",
       "    'cottage cheese ',\n",
       "    'eggs, '],\n",
       "   'cooking tools': ['bowl'],\n",
       "   'cooking methods': ['mix', 'combined'],\n",
       "   'time': []}],\n",
       " ['Place 4 noodles side by side into the bottom of a 9x13-inch baking pan',\n",
       "  {'ingredient': ['whole wheat, lasagna noodles '],\n",
       "   'cooking tools': ['pan'],\n",
       "   'cooking methods': ['baking'],\n",
       "   'time': []}],\n",
       " [' top with a layer of the tomato-basil sauce, a layer of tofu mixture, and a layer of the cottage cheese mixture',\n",
       "  {'ingredient': ['tomato-basil pasta sauce ',\n",
       "    'whole wheat, lasagna noodles ',\n",
       "    'tofu ',\n",
       "    'cottage cheese '],\n",
       "   'cooking tools': [],\n",
       "   'cooking methods': ['top', 'mixture'],\n",
       "   'time': []}],\n",
       " [' Repeat layers twice more, ending with a layer of sauce',\n",
       "  {'ingredient': ['whole wheat, lasagna noodles ',\n",
       "    'tomato-basil pasta sauce '],\n",
       "   'cooking tools': [],\n",
       "   'cooking methods': [],\n",
       "   'time': []}],\n",
       " [' sprinkle top with the mozzarella cheese',\n",
       "  {'ingredient': ['shredded mozzarella cheese ', 'cottage cheese '],\n",
       "   'cooking tools': [],\n",
       "   'cooking methods': ['sprinkle', 'top'],\n",
       "   'time': []}],\n",
       " [' Cover the dish with aluminum foil',\n",
       "  {'ingredient': [],\n",
       "   'cooking tools': ['foil'],\n",
       "   'cooking methods': ['Cover'],\n",
       "   'time': []}],\n",
       " ['Bake in the preheated oven until the casserole is bubbling and the cheese has melted, about 30 minutes',\n",
       "  {'ingredient': ['cottage cheese ', 'whole wheat, lasagna noodles '],\n",
       "   'cooking tools': ['oven'],\n",
       "   'cooking methods': ['Bake', 'preheated'],\n",
       "   'time': ['30 minute']}],\n",
       " [' Remove foil and bake until cheese has begun to brown, about 10 more minutes',\n",
       "  {'ingredient': ['cottage cheese ', 'whole wheat, lasagna noodles '],\n",
       "   'cooking tools': ['foil'],\n",
       "   'cooking methods': ['Remove', 'bake', 'brown'],\n",
       "   'time': ['10 minute']}],\n",
       " [' Allow to stand at least 10 minutes before serving',\n",
       "  {'ingredient': [],\n",
       "   'cooking tools': [],\n",
       "   'cooking methods': ['stand'],\n",
       "   'time': ['10 minute']}]]"
      ]
     },
     "execution_count": 247,
     "metadata": {},
     "output_type": "execute_result"
    }
   ],
   "source": [
    "modify_directions_veggies(tokenized_steps)"
   ]
  },
  {
   "cell_type": "code",
   "execution_count": 231,
   "metadata": {},
   "outputs": [
    {
     "data": {
      "text/plain": [
       "[['Preheat oven to 350 degrees F (175 degrees C)',\n",
       "  {'ingredient': [],\n",
       "   'cooking tools': ['oven'],\n",
       "   'cooking methods': ['Preheat'],\n",
       "   'time': []}],\n",
       " ['Fill a large pot with lightly salted water and bring to a rolling boil over high heat',\n",
       "  {'ingredient': ['whole wheat, lasagna noodles '],\n",
       "   'cooking tools': ['pot'],\n",
       "   'cooking methods': ['boil', 'heat'],\n",
       "   'time': []}],\n",
       " [' Once the water is boiling, add the lasagna noodles a few at a time, and return to a boil',\n",
       "  {'ingredient': ['whole wheat, lasagna noodles '],\n",
       "   'cooking tools': [],\n",
       "   'cooking methods': ['boiling'],\n",
       "   'time': []}],\n",
       " [' Cook the pasta uncovered, stirring occasionally, until the pasta has cooked through, but is still firm to the bite, about 10 minutes',\n",
       "  {'ingredient': ['tomato-basil pasta sauce ',\n",
       "    'whole wheat, lasagna noodles '],\n",
       "   'cooking tools': [],\n",
       "   'cooking methods': ['Cook', 'uncovered', 'stirring'],\n",
       "   'time': ['10 minute']}],\n",
       " [' Remove the noodles to a plate',\n",
       "  {'ingredient': ['whole wheat, lasagna noodles '],\n",
       "   'cooking tools': ['plate'],\n",
       "   'cooking methods': ['Remove'],\n",
       "   'time': []}],\n",
       " ['Place the ground beef into a skillet over medium heat, add the garlic, garlic powder, oregano, salt, and black pepper to the skillet',\n",
       "  {'ingredient': ['lean ground beef ',\n",
       "    'whole wheat, lasagna noodles ',\n",
       "    'garlic ',\n",
       "    'garlic powder ',\n",
       "    'dried oregano ',\n",
       "    'salt and ground black pepper to taste '],\n",
       "   'cooking tools': ['skillet'],\n",
       "   'cooking methods': ['heat'],\n",
       "   'time': []}],\n",
       " [' Cook the meat, chopping it into small chunks as it cooks, until no longer pink, about 10 minutes',\n",
       "  {'ingredient': ['whole wheat, lasagna noodles '],\n",
       "   'cooking tools': [],\n",
       "   'cooking methods': ['Cook', 'chopping'],\n",
       "   'time': ['10 minute']}],\n",
       " [' Drain excess grease',\n",
       "  {'ingredient': [],\n",
       "   'cooking tools': [],\n",
       "   'cooking methods': ['Drain'],\n",
       "   'time': []}],\n",
       " ['In a bowl, mix the cottage cheese, eggs, and Parmesan cheese until thoroughly combined',\n",
       "  {'ingredient': ['whole wheat, lasagna noodles ',\n",
       "    'cottage cheese ',\n",
       "    'eggs, '],\n",
       "   'cooking tools': ['bowl'],\n",
       "   'cooking methods': ['mix', 'combined'],\n",
       "   'time': []}],\n",
       " ['Place 4 noodles side by side into the bottom of a 9x13-inch baking pan',\n",
       "  {'ingredient': ['whole wheat, lasagna noodles '],\n",
       "   'cooking tools': ['pan'],\n",
       "   'cooking methods': ['baking'],\n",
       "   'time': []}],\n",
       " [' top with a layer of the tomato-basil sauce, a layer of ground beef mixture, and a layer of the cottage cheese mixture',\n",
       "  {'ingredient': ['tomato-basil pasta sauce ',\n",
       "    'whole wheat, lasagna noodles ',\n",
       "    'lean ground beef ',\n",
       "    'cottage cheese '],\n",
       "   'cooking tools': [],\n",
       "   'cooking methods': ['top', 'mixture'],\n",
       "   'time': []}],\n",
       " [' Repeat layers twice more, ending with a layer of sauce',\n",
       "  {'ingredient': ['whole wheat, lasagna noodles ',\n",
       "    'tomato-basil pasta sauce '],\n",
       "   'cooking tools': [],\n",
       "   'cooking methods': [],\n",
       "   'time': []}],\n",
       " [' sprinkle top with the mozzarella cheese',\n",
       "  {'ingredient': ['shredded mozzarella cheese ', 'cottage cheese '],\n",
       "   'cooking tools': [],\n",
       "   'cooking methods': ['sprinkle', 'top'],\n",
       "   'time': []}],\n",
       " [' Cover the dish with aluminum foil',\n",
       "  {'ingredient': [],\n",
       "   'cooking tools': ['foil'],\n",
       "   'cooking methods': ['Cover'],\n",
       "   'time': []}],\n",
       " ['Bake in the preheated oven until the casserole is bubbling and the cheese has melted, about 30 minutes',\n",
       "  {'ingredient': ['cottage cheese ', 'whole wheat, lasagna noodles '],\n",
       "   'cooking tools': ['oven'],\n",
       "   'cooking methods': ['Bake', 'preheated'],\n",
       "   'time': ['30 minute']}],\n",
       " [' Remove foil and bake until cheese has begun to brown, about 10 more minutes',\n",
       "  {'ingredient': ['cottage cheese ', 'whole wheat, lasagna noodles '],\n",
       "   'cooking tools': ['foil'],\n",
       "   'cooking methods': ['Remove', 'bake', 'brown'],\n",
       "   'time': ['10 minute']}],\n",
       " [' Allow to stand at least 10 minutes before serving',\n",
       "  {'ingredient': [],\n",
       "   'cooking tools': [],\n",
       "   'cooking methods': ['stand'],\n",
       "   'time': ['10 minute']}]]"
      ]
     },
     "execution_count": 231,
     "metadata": {},
     "output_type": "execute_result"
    }
   ],
   "source": [
    "tokenized_steps"
   ]
  },
  {
   "cell_type": "code",
   "execution_count": 249,
   "metadata": {},
   "outputs": [],
   "source": [
    "def parse_new_recipe(name):\n",
    "    ingredients, directions = get_recipe(name)\n",
    "    tokenized_ingredients, tokenized_steps = get_tokenized_ingredients_and_steps(ingredients, directions)\n",
    "\n",
    "    veggie_ingredients = to_veggie_ingredient(tokenized_ingredients)\n",
    "    veggie_directions = modify_directions_veggies(tokenized_steps)\n",
    "    return veggie_ingredients, veggie_directions"
   ]
  },
  {
   "cell_type": "code",
   "execution_count": 250,
   "metadata": {},
   "outputs": [
    {
     "name": "stderr",
     "output_type": "stream",
     "text": [
      "/anaconda3/lib/python3.6/site-packages/bs4/__init__.py:181: UserWarning: No parser was explicitly specified, so I'm using the best available HTML parser for this system (\"lxml\"). This usually isn't a problem, but if you run this code on another system, or in a different virtual environment, it may use a different parser and behave differently.\n",
      "\n",
      "The code that caused this warning is on line 193 of the file /anaconda3/lib/python3.6/runpy.py. To get rid of this warning, change code that looks like this:\n",
      "\n",
      " BeautifulSoup(YOUR_MARKUP})\n",
      "\n",
      "to this:\n",
      "\n",
      " BeautifulSoup(YOUR_MARKUP, \"lxml\")\n",
      "\n",
      "  markup_type=markup_type))\n"
     ]
    },
    {
     "ename": "TypeError",
     "evalue": "expected string or bytes-like object",
     "output_type": "error",
     "traceback": [
      "\u001b[0;31m---------------------------------------------------------------------------\u001b[0m",
      "\u001b[0;31mTypeError\u001b[0m                                 Traceback (most recent call last)",
      "\u001b[0;32m<ipython-input-250-a916ec7ff31c>\u001b[0m in \u001b[0;36m<module>\u001b[0;34m()\u001b[0m\n\u001b[0;32m----> 1\u001b[0;31m \u001b[0mparse_new_recipe\u001b[0m\u001b[0;34m(\u001b[0m\u001b[0;34m'meat lasagna'\u001b[0m\u001b[0;34m)\u001b[0m\u001b[0;34m\u001b[0m\u001b[0;34m\u001b[0m\u001b[0m\n\u001b[0m",
      "\u001b[0;32m<ipython-input-249-a0575ca1a078>\u001b[0m in \u001b[0;36mparse_new_recipe\u001b[0;34m(name)\u001b[0m\n\u001b[1;32m      3\u001b[0m     \u001b[0mtokenized_ingredients\u001b[0m\u001b[0;34m,\u001b[0m \u001b[0mtokenized_steps\u001b[0m \u001b[0;34m=\u001b[0m \u001b[0mget_tokenized_ingredients_and_steps\u001b[0m\u001b[0;34m(\u001b[0m\u001b[0mingredients\u001b[0m\u001b[0;34m,\u001b[0m \u001b[0mdirections\u001b[0m\u001b[0;34m)\u001b[0m\u001b[0;34m\u001b[0m\u001b[0;34m\u001b[0m\u001b[0m\n\u001b[1;32m      4\u001b[0m \u001b[0;34m\u001b[0m\u001b[0m\n\u001b[0;32m----> 5\u001b[0;31m     \u001b[0mveggie_ingredients\u001b[0m \u001b[0;34m=\u001b[0m \u001b[0mto_veggie_ingredient\u001b[0m\u001b[0;34m(\u001b[0m\u001b[0mtokenized_ingredients\u001b[0m\u001b[0;34m)\u001b[0m\u001b[0;34m\u001b[0m\u001b[0;34m\u001b[0m\u001b[0m\n\u001b[0m\u001b[1;32m      6\u001b[0m     \u001b[0mveggie_directions\u001b[0m \u001b[0;34m=\u001b[0m \u001b[0mmodify_directions_veggies\u001b[0m\u001b[0;34m(\u001b[0m\u001b[0mtokenized_steps\u001b[0m\u001b[0;34m)\u001b[0m\u001b[0;34m\u001b[0m\u001b[0;34m\u001b[0m\u001b[0m\n\u001b[1;32m      7\u001b[0m     \u001b[0;32mreturn\u001b[0m \u001b[0mveggie_ingredients\u001b[0m\u001b[0;34m,\u001b[0m \u001b[0mveggie_directions\u001b[0m\u001b[0;34m\u001b[0m\u001b[0;34m\u001b[0m\u001b[0m\n",
      "\u001b[0;32m<ipython-input-41-3e950a6b4889>\u001b[0m in \u001b[0;36mto_veggie_ingredient\u001b[0;34m(ingredients_lst)\u001b[0m\n\u001b[1;32m     33\u001b[0m     \u001b[0mtokenized_ingredients\u001b[0m \u001b[0;34m=\u001b[0m \u001b[0;34m[\u001b[0m\u001b[0;34m]\u001b[0m\u001b[0;34m\u001b[0m\u001b[0;34m\u001b[0m\u001b[0m\n\u001b[1;32m     34\u001b[0m     \u001b[0;32mfor\u001b[0m \u001b[0ming\u001b[0m \u001b[0;32min\u001b[0m \u001b[0mingredients_lst\u001b[0m\u001b[0;34m:\u001b[0m\u001b[0;34m\u001b[0m\u001b[0;34m\u001b[0m\u001b[0m\n\u001b[0;32m---> 35\u001b[0;31m         \u001b[0mtokenized_ingredients\u001b[0m\u001b[0;34m.\u001b[0m\u001b[0mappend\u001b[0m\u001b[0;34m(\u001b[0m\u001b[0mtokenize_ingredient\u001b[0m\u001b[0;34m(\u001b[0m\u001b[0ming\u001b[0m\u001b[0;34m)\u001b[0m\u001b[0;34m)\u001b[0m\u001b[0;34m\u001b[0m\u001b[0;34m\u001b[0m\u001b[0m\n\u001b[0m\u001b[1;32m     36\u001b[0m     \u001b[0;32mfor\u001b[0m \u001b[0mingredient\u001b[0m \u001b[0;32min\u001b[0m \u001b[0mtokenized_ingredients\u001b[0m\u001b[0;34m:\u001b[0m\u001b[0;34m\u001b[0m\u001b[0;34m\u001b[0m\u001b[0m\n\u001b[1;32m     37\u001b[0m         \u001b[0mingredient_name\u001b[0m \u001b[0;34m=\u001b[0m \u001b[0mingredient\u001b[0m\u001b[0;34m[\u001b[0m\u001b[0;34m'ingredient_name'\u001b[0m\u001b[0;34m]\u001b[0m\u001b[0;34m\u001b[0m\u001b[0;34m\u001b[0m\u001b[0m\n",
      "\u001b[0;32m~/Desktop/nlp/Project2_Recipe/helper.py\u001b[0m in \u001b[0;36mtokenize_ingredient\u001b[0;34m(text)\u001b[0m\n\u001b[1;32m     22\u001b[0m \u001b[0;32mdef\u001b[0m \u001b[0mtokenize_ingredient\u001b[0m\u001b[0;34m(\u001b[0m\u001b[0mtext\u001b[0m\u001b[0;34m)\u001b[0m\u001b[0;34m:\u001b[0m\u001b[0;34m\u001b[0m\u001b[0;34m\u001b[0m\u001b[0m\n\u001b[1;32m     23\u001b[0m     \u001b[0mingredient\u001b[0m \u001b[0;34m=\u001b[0m \u001b[0;34m{\u001b[0m\u001b[0;34m}\u001b[0m\u001b[0;34m\u001b[0m\u001b[0;34m\u001b[0m\u001b[0m\n\u001b[0;32m---> 24\u001b[0;31m     \u001b[0mtokenized\u001b[0m \u001b[0;34m=\u001b[0m \u001b[0msent_tokenize\u001b[0m\u001b[0;34m(\u001b[0m\u001b[0mtext\u001b[0m\u001b[0;34m)\u001b[0m\u001b[0;34m\u001b[0m\u001b[0;34m\u001b[0m\u001b[0m\n\u001b[0m\u001b[1;32m     25\u001b[0m     \u001b[0mquantity\u001b[0m \u001b[0;34m=\u001b[0m \u001b[0;34m''\u001b[0m\u001b[0;34m\u001b[0m\u001b[0;34m\u001b[0m\u001b[0m\n\u001b[1;32m     26\u001b[0m     \u001b[0mingredient_name\u001b[0m \u001b[0;34m=\u001b[0m \u001b[0;34m''\u001b[0m\u001b[0;34m\u001b[0m\u001b[0;34m\u001b[0m\u001b[0m\n",
      "\u001b[0;32m/anaconda3/lib/python3.6/site-packages/nltk/tokenize/__init__.py\u001b[0m in \u001b[0;36msent_tokenize\u001b[0;34m(text, language)\u001b[0m\n\u001b[1;32m    104\u001b[0m     \"\"\"\n\u001b[1;32m    105\u001b[0m     \u001b[0mtokenizer\u001b[0m \u001b[0;34m=\u001b[0m \u001b[0mload\u001b[0m\u001b[0;34m(\u001b[0m\u001b[0;34m'tokenizers/punkt/{0}.pickle'\u001b[0m\u001b[0;34m.\u001b[0m\u001b[0mformat\u001b[0m\u001b[0;34m(\u001b[0m\u001b[0mlanguage\u001b[0m\u001b[0;34m)\u001b[0m\u001b[0;34m)\u001b[0m\u001b[0;34m\u001b[0m\u001b[0;34m\u001b[0m\u001b[0m\n\u001b[0;32m--> 106\u001b[0;31m     \u001b[0;32mreturn\u001b[0m \u001b[0mtokenizer\u001b[0m\u001b[0;34m.\u001b[0m\u001b[0mtokenize\u001b[0m\u001b[0;34m(\u001b[0m\u001b[0mtext\u001b[0m\u001b[0;34m)\u001b[0m\u001b[0;34m\u001b[0m\u001b[0;34m\u001b[0m\u001b[0m\n\u001b[0m\u001b[1;32m    107\u001b[0m \u001b[0;34m\u001b[0m\u001b[0m\n\u001b[1;32m    108\u001b[0m \u001b[0;34m\u001b[0m\u001b[0m\n",
      "\u001b[0;32m/anaconda3/lib/python3.6/site-packages/nltk/tokenize/punkt.py\u001b[0m in \u001b[0;36mtokenize\u001b[0;34m(self, text, realign_boundaries)\u001b[0m\n\u001b[1;32m   1275\u001b[0m         \u001b[0mGiven\u001b[0m \u001b[0ma\u001b[0m \u001b[0mtext\u001b[0m\u001b[0;34m,\u001b[0m \u001b[0mreturns\u001b[0m \u001b[0ma\u001b[0m \u001b[0mlist\u001b[0m \u001b[0mof\u001b[0m \u001b[0mthe\u001b[0m \u001b[0msentences\u001b[0m \u001b[0;32min\u001b[0m \u001b[0mthat\u001b[0m \u001b[0mtext\u001b[0m\u001b[0;34m.\u001b[0m\u001b[0;34m\u001b[0m\u001b[0;34m\u001b[0m\u001b[0m\n\u001b[1;32m   1276\u001b[0m         \"\"\"\n\u001b[0;32m-> 1277\u001b[0;31m         \u001b[0;32mreturn\u001b[0m \u001b[0mlist\u001b[0m\u001b[0;34m(\u001b[0m\u001b[0mself\u001b[0m\u001b[0;34m.\u001b[0m\u001b[0msentences_from_text\u001b[0m\u001b[0;34m(\u001b[0m\u001b[0mtext\u001b[0m\u001b[0;34m,\u001b[0m \u001b[0mrealign_boundaries\u001b[0m\u001b[0;34m)\u001b[0m\u001b[0;34m)\u001b[0m\u001b[0;34m\u001b[0m\u001b[0;34m\u001b[0m\u001b[0m\n\u001b[0m\u001b[1;32m   1278\u001b[0m \u001b[0;34m\u001b[0m\u001b[0m\n\u001b[1;32m   1279\u001b[0m     \u001b[0;32mdef\u001b[0m \u001b[0mdebug_decisions\u001b[0m\u001b[0;34m(\u001b[0m\u001b[0mself\u001b[0m\u001b[0;34m,\u001b[0m \u001b[0mtext\u001b[0m\u001b[0;34m)\u001b[0m\u001b[0;34m:\u001b[0m\u001b[0;34m\u001b[0m\u001b[0;34m\u001b[0m\u001b[0m\n",
      "\u001b[0;32m/anaconda3/lib/python3.6/site-packages/nltk/tokenize/punkt.py\u001b[0m in \u001b[0;36msentences_from_text\u001b[0;34m(self, text, realign_boundaries)\u001b[0m\n\u001b[1;32m   1329\u001b[0m         \u001b[0mfollows\u001b[0m \u001b[0mthe\u001b[0m \u001b[0mperiod\u001b[0m\u001b[0;34m.\u001b[0m\u001b[0;34m\u001b[0m\u001b[0;34m\u001b[0m\u001b[0m\n\u001b[1;32m   1330\u001b[0m         \"\"\"\n\u001b[0;32m-> 1331\u001b[0;31m         \u001b[0;32mreturn\u001b[0m \u001b[0;34m[\u001b[0m\u001b[0mtext\u001b[0m\u001b[0;34m[\u001b[0m\u001b[0ms\u001b[0m\u001b[0;34m:\u001b[0m\u001b[0me\u001b[0m\u001b[0;34m]\u001b[0m \u001b[0;32mfor\u001b[0m \u001b[0ms\u001b[0m\u001b[0;34m,\u001b[0m \u001b[0me\u001b[0m \u001b[0;32min\u001b[0m \u001b[0mself\u001b[0m\u001b[0;34m.\u001b[0m\u001b[0mspan_tokenize\u001b[0m\u001b[0;34m(\u001b[0m\u001b[0mtext\u001b[0m\u001b[0;34m,\u001b[0m \u001b[0mrealign_boundaries\u001b[0m\u001b[0;34m)\u001b[0m\u001b[0;34m]\u001b[0m\u001b[0;34m\u001b[0m\u001b[0;34m\u001b[0m\u001b[0m\n\u001b[0m\u001b[1;32m   1332\u001b[0m \u001b[0;34m\u001b[0m\u001b[0m\n\u001b[1;32m   1333\u001b[0m     \u001b[0;32mdef\u001b[0m \u001b[0m_slices_from_text\u001b[0m\u001b[0;34m(\u001b[0m\u001b[0mself\u001b[0m\u001b[0;34m,\u001b[0m \u001b[0mtext\u001b[0m\u001b[0;34m)\u001b[0m\u001b[0;34m:\u001b[0m\u001b[0;34m\u001b[0m\u001b[0;34m\u001b[0m\u001b[0m\n",
      "\u001b[0;32m/anaconda3/lib/python3.6/site-packages/nltk/tokenize/punkt.py\u001b[0m in \u001b[0;36m<listcomp>\u001b[0;34m(.0)\u001b[0m\n\u001b[1;32m   1329\u001b[0m         \u001b[0mfollows\u001b[0m \u001b[0mthe\u001b[0m \u001b[0mperiod\u001b[0m\u001b[0;34m.\u001b[0m\u001b[0;34m\u001b[0m\u001b[0;34m\u001b[0m\u001b[0m\n\u001b[1;32m   1330\u001b[0m         \"\"\"\n\u001b[0;32m-> 1331\u001b[0;31m         \u001b[0;32mreturn\u001b[0m \u001b[0;34m[\u001b[0m\u001b[0mtext\u001b[0m\u001b[0;34m[\u001b[0m\u001b[0ms\u001b[0m\u001b[0;34m:\u001b[0m\u001b[0me\u001b[0m\u001b[0;34m]\u001b[0m \u001b[0;32mfor\u001b[0m \u001b[0ms\u001b[0m\u001b[0;34m,\u001b[0m \u001b[0me\u001b[0m \u001b[0;32min\u001b[0m \u001b[0mself\u001b[0m\u001b[0;34m.\u001b[0m\u001b[0mspan_tokenize\u001b[0m\u001b[0;34m(\u001b[0m\u001b[0mtext\u001b[0m\u001b[0;34m,\u001b[0m \u001b[0mrealign_boundaries\u001b[0m\u001b[0;34m)\u001b[0m\u001b[0;34m]\u001b[0m\u001b[0;34m\u001b[0m\u001b[0;34m\u001b[0m\u001b[0m\n\u001b[0m\u001b[1;32m   1332\u001b[0m \u001b[0;34m\u001b[0m\u001b[0m\n\u001b[1;32m   1333\u001b[0m     \u001b[0;32mdef\u001b[0m \u001b[0m_slices_from_text\u001b[0m\u001b[0;34m(\u001b[0m\u001b[0mself\u001b[0m\u001b[0;34m,\u001b[0m \u001b[0mtext\u001b[0m\u001b[0;34m)\u001b[0m\u001b[0;34m:\u001b[0m\u001b[0;34m\u001b[0m\u001b[0;34m\u001b[0m\u001b[0m\n",
      "\u001b[0;32m/anaconda3/lib/python3.6/site-packages/nltk/tokenize/punkt.py\u001b[0m in \u001b[0;36mspan_tokenize\u001b[0;34m(self, text, realign_boundaries)\u001b[0m\n\u001b[1;32m   1319\u001b[0m         \u001b[0;32mif\u001b[0m \u001b[0mrealign_boundaries\u001b[0m\u001b[0;34m:\u001b[0m\u001b[0;34m\u001b[0m\u001b[0;34m\u001b[0m\u001b[0m\n\u001b[1;32m   1320\u001b[0m             \u001b[0mslices\u001b[0m \u001b[0;34m=\u001b[0m \u001b[0mself\u001b[0m\u001b[0;34m.\u001b[0m\u001b[0m_realign_boundaries\u001b[0m\u001b[0;34m(\u001b[0m\u001b[0mtext\u001b[0m\u001b[0;34m,\u001b[0m \u001b[0mslices\u001b[0m\u001b[0;34m)\u001b[0m\u001b[0;34m\u001b[0m\u001b[0;34m\u001b[0m\u001b[0m\n\u001b[0;32m-> 1321\u001b[0;31m         \u001b[0;32mfor\u001b[0m \u001b[0msl\u001b[0m \u001b[0;32min\u001b[0m \u001b[0mslices\u001b[0m\u001b[0;34m:\u001b[0m\u001b[0;34m\u001b[0m\u001b[0;34m\u001b[0m\u001b[0m\n\u001b[0m\u001b[1;32m   1322\u001b[0m             \u001b[0;32myield\u001b[0m \u001b[0;34m(\u001b[0m\u001b[0msl\u001b[0m\u001b[0;34m.\u001b[0m\u001b[0mstart\u001b[0m\u001b[0;34m,\u001b[0m \u001b[0msl\u001b[0m\u001b[0;34m.\u001b[0m\u001b[0mstop\u001b[0m\u001b[0;34m)\u001b[0m\u001b[0;34m\u001b[0m\u001b[0;34m\u001b[0m\u001b[0m\n\u001b[1;32m   1323\u001b[0m \u001b[0;34m\u001b[0m\u001b[0m\n",
      "\u001b[0;32m/anaconda3/lib/python3.6/site-packages/nltk/tokenize/punkt.py\u001b[0m in \u001b[0;36m_realign_boundaries\u001b[0;34m(self, text, slices)\u001b[0m\n\u001b[1;32m   1360\u001b[0m         \"\"\"\n\u001b[1;32m   1361\u001b[0m         \u001b[0mrealign\u001b[0m \u001b[0;34m=\u001b[0m \u001b[0;36m0\u001b[0m\u001b[0;34m\u001b[0m\u001b[0;34m\u001b[0m\u001b[0m\n\u001b[0;32m-> 1362\u001b[0;31m         \u001b[0;32mfor\u001b[0m \u001b[0msl1\u001b[0m\u001b[0;34m,\u001b[0m \u001b[0msl2\u001b[0m \u001b[0;32min\u001b[0m \u001b[0m_pair_iter\u001b[0m\u001b[0;34m(\u001b[0m\u001b[0mslices\u001b[0m\u001b[0;34m)\u001b[0m\u001b[0;34m:\u001b[0m\u001b[0;34m\u001b[0m\u001b[0;34m\u001b[0m\u001b[0m\n\u001b[0m\u001b[1;32m   1363\u001b[0m             \u001b[0msl1\u001b[0m \u001b[0;34m=\u001b[0m \u001b[0mslice\u001b[0m\u001b[0;34m(\u001b[0m\u001b[0msl1\u001b[0m\u001b[0;34m.\u001b[0m\u001b[0mstart\u001b[0m \u001b[0;34m+\u001b[0m \u001b[0mrealign\u001b[0m\u001b[0;34m,\u001b[0m \u001b[0msl1\u001b[0m\u001b[0;34m.\u001b[0m\u001b[0mstop\u001b[0m\u001b[0;34m)\u001b[0m\u001b[0;34m\u001b[0m\u001b[0;34m\u001b[0m\u001b[0m\n\u001b[1;32m   1364\u001b[0m             \u001b[0;32mif\u001b[0m \u001b[0;32mnot\u001b[0m \u001b[0msl2\u001b[0m\u001b[0;34m:\u001b[0m\u001b[0;34m\u001b[0m\u001b[0;34m\u001b[0m\u001b[0m\n",
      "\u001b[0;32m/anaconda3/lib/python3.6/site-packages/nltk/tokenize/punkt.py\u001b[0m in \u001b[0;36m_pair_iter\u001b[0;34m(it)\u001b[0m\n\u001b[1;32m    316\u001b[0m     \u001b[0mit\u001b[0m \u001b[0;34m=\u001b[0m \u001b[0miter\u001b[0m\u001b[0;34m(\u001b[0m\u001b[0mit\u001b[0m\u001b[0;34m)\u001b[0m\u001b[0;34m\u001b[0m\u001b[0;34m\u001b[0m\u001b[0m\n\u001b[1;32m    317\u001b[0m     \u001b[0;32mtry\u001b[0m\u001b[0;34m:\u001b[0m\u001b[0;34m\u001b[0m\u001b[0;34m\u001b[0m\u001b[0m\n\u001b[0;32m--> 318\u001b[0;31m         \u001b[0mprev\u001b[0m \u001b[0;34m=\u001b[0m \u001b[0mnext\u001b[0m\u001b[0;34m(\u001b[0m\u001b[0mit\u001b[0m\u001b[0;34m)\u001b[0m\u001b[0;34m\u001b[0m\u001b[0;34m\u001b[0m\u001b[0m\n\u001b[0m\u001b[1;32m    319\u001b[0m     \u001b[0;32mexcept\u001b[0m \u001b[0mStopIteration\u001b[0m\u001b[0;34m:\u001b[0m\u001b[0;34m\u001b[0m\u001b[0;34m\u001b[0m\u001b[0m\n\u001b[1;32m    320\u001b[0m         \u001b[0;32mreturn\u001b[0m\u001b[0;34m\u001b[0m\u001b[0;34m\u001b[0m\u001b[0m\n",
      "\u001b[0;32m/anaconda3/lib/python3.6/site-packages/nltk/tokenize/punkt.py\u001b[0m in \u001b[0;36m_slices_from_text\u001b[0;34m(self, text)\u001b[0m\n\u001b[1;32m   1333\u001b[0m     \u001b[0;32mdef\u001b[0m \u001b[0m_slices_from_text\u001b[0m\u001b[0;34m(\u001b[0m\u001b[0mself\u001b[0m\u001b[0;34m,\u001b[0m \u001b[0mtext\u001b[0m\u001b[0;34m)\u001b[0m\u001b[0;34m:\u001b[0m\u001b[0;34m\u001b[0m\u001b[0;34m\u001b[0m\u001b[0m\n\u001b[1;32m   1334\u001b[0m         \u001b[0mlast_break\u001b[0m \u001b[0;34m=\u001b[0m \u001b[0;36m0\u001b[0m\u001b[0;34m\u001b[0m\u001b[0;34m\u001b[0m\u001b[0m\n\u001b[0;32m-> 1335\u001b[0;31m         \u001b[0;32mfor\u001b[0m \u001b[0mmatch\u001b[0m \u001b[0;32min\u001b[0m \u001b[0mself\u001b[0m\u001b[0;34m.\u001b[0m\u001b[0m_lang_vars\u001b[0m\u001b[0;34m.\u001b[0m\u001b[0mperiod_context_re\u001b[0m\u001b[0;34m(\u001b[0m\u001b[0;34m)\u001b[0m\u001b[0;34m.\u001b[0m\u001b[0mfinditer\u001b[0m\u001b[0;34m(\u001b[0m\u001b[0mtext\u001b[0m\u001b[0;34m)\u001b[0m\u001b[0;34m:\u001b[0m\u001b[0;34m\u001b[0m\u001b[0;34m\u001b[0m\u001b[0m\n\u001b[0m\u001b[1;32m   1336\u001b[0m             \u001b[0mcontext\u001b[0m \u001b[0;34m=\u001b[0m \u001b[0mmatch\u001b[0m\u001b[0;34m.\u001b[0m\u001b[0mgroup\u001b[0m\u001b[0;34m(\u001b[0m\u001b[0;34m)\u001b[0m \u001b[0;34m+\u001b[0m \u001b[0mmatch\u001b[0m\u001b[0;34m.\u001b[0m\u001b[0mgroup\u001b[0m\u001b[0;34m(\u001b[0m\u001b[0;34m'after_tok'\u001b[0m\u001b[0;34m)\u001b[0m\u001b[0;34m\u001b[0m\u001b[0;34m\u001b[0m\u001b[0m\n\u001b[1;32m   1337\u001b[0m             \u001b[0;32mif\u001b[0m \u001b[0mself\u001b[0m\u001b[0;34m.\u001b[0m\u001b[0mtext_contains_sentbreak\u001b[0m\u001b[0;34m(\u001b[0m\u001b[0mcontext\u001b[0m\u001b[0;34m)\u001b[0m\u001b[0;34m:\u001b[0m\u001b[0;34m\u001b[0m\u001b[0;34m\u001b[0m\u001b[0m\n",
      "\u001b[0;31mTypeError\u001b[0m: expected string or bytes-like object"
     ]
    }
   ],
   "source": [
    "parse_new_recipe('meat lasagna')"
   ]
  },
  {
   "cell_type": "code",
   "execution_count": 252,
   "metadata": {},
   "outputs": [
    {
     "name": "stdout",
     "output_type": "stream",
     "text": [
      "foo bar\n"
     ]
    }
   ],
   "source": [
    "var1 = \"foo\"\n",
    "var2 = \"bar\"\n",
    "var3 = f\"{var1} {var2}\"\n",
    "print(var3)"
   ]
  },
  {
   "cell_type": "code",
   "execution_count": 255,
   "metadata": {},
   "outputs": [
    {
     "data": {
      "text/plain": [
       "'foo bar baz'"
      ]
     },
     "execution_count": 255,
     "metadata": {},
     "output_type": "execute_result"
    }
   ],
   "source": [
    "l = []\n",
    "l.append('foo')\n",
    "l.append('bar')\n",
    "l.append('baz')\n",
    "\n",
    "s = ' '.join(l)\n",
    "s"
   ]
  },
  {
   "cell_type": "code",
   "execution_count": 254,
   "metadata": {},
   "outputs": [
    {
     "data": {
      "text/plain": [
       "'Hello World'"
      ]
     },
     "execution_count": 254,
     "metadata": {},
     "output_type": "execute_result"
    }
   ],
   "source": [
    "str1 = \"Hello\"\n",
    "str2 = \"World\"\n",
    "newstr = \" \".join((str1, str2))\n",
    "newstr"
   ]
  },
  {
   "cell_type": "code",
   "execution_count": null,
   "metadata": {},
   "outputs": [],
   "source": []
  }
 ],
 "metadata": {
  "kernelspec": {
   "display_name": "Python 3",
   "language": "python",
   "name": "python3"
  },
  "language_info": {
   "codemirror_mode": {
    "name": "ipython",
    "version": 3
   },
   "file_extension": ".py",
   "mimetype": "text/x-python",
   "name": "python",
   "nbconvert_exporter": "python",
   "pygments_lexer": "ipython3",
   "version": "3.6.8"
  }
 },
 "nbformat": 4,
 "nbformat_minor": 2
}
