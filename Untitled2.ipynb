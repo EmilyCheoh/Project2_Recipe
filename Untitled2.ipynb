{
 "cells": [
  {
   "cell_type": "code",
   "execution_count": 1,
   "metadata": {},
   "outputs": [
    {
     "name": "stdout",
     "output_type": "stream",
     "text": [
      "True\n"
     ]
    }
   ],
   "source": [
    "from helper import *\n",
    "import script\n",
    "import copy\n",
    "\n",
    "to_veggie = {\n",
    "    'ground beef' : 'tofu',\n",
    "    'lean ground beef' : 'tofu',\n",
    "    'meat' : 'tofu',\n",
    "    'beef' : 'tofu',\n",
    "    'steak': 'mushroom',\n",
    "    'fish' : 'tofu',\n",
    "    'goat' : 'tofu',\n",
    "    'lamb' : 'tofu',\n",
    "    'meatball' : 'vegetarian meatball',\n",
    "    'pork' : 'tofu',\n",
    "    'poultry' : 'tofu',\n",
    "    'sausage' : 'vegetarian sausage',\n",
    "    'seafood' : 'tofu',\n",
    "    'chicken broth' : 'vegetable broths'\n",
    "}\n",
    "\n",
    "meats = [\n",
    "    'lean ground beef', \n",
    "    'ground beef','beef', \n",
    "    'fish', \n",
    "    'goat', \n",
    "    'lamb', \n",
    "    'meatball', \n",
    "    'pork', \n",
    "    'poultry', \n",
    "    'sausage', \n",
    "    'seafood',\n",
    "    'chicken broth']\n",
    "\n",
    "def get_recipe(name):\n",
    "    rf = script.RecipeFetcher()\n",
    "    recipe = rf.search_recipes(name)[0]\n",
    "    result = rf.scrape_recipe(recipe)\n",
    "    ingredients = result['ingredients']\n",
    "    directions = result['directions']\n",
    "    return ingredients, directions\n",
    "\n",
    "def get_tokenized_ingredients_and_steps(ingredients_lst, directions_lst):\n",
    "    tokenized_ingredients = []\n",
    "    for ing in ingredients_lst:\n",
    "        tokenized_ingredients.append(tokenize_ingredient(ing))\n",
    "    ingredient_names = []\n",
    "    for ingredient in tokenized_ingredients:\n",
    "        ingredient_names.append(ingredient['ingredient_name'])\n",
    "    tools, methods, tokenized_steps = get_steps(directions_lst, ingredient_names)\n",
    "    return tokenized_ingredients, tokenized_steps\n",
    "\n",
    "# returns vegetarian recipe\n",
    "def to_veggie_ingredient(ingredients_lst):\n",
    "    tokenized_ingredients = copy.deepcopy(ingredients_lst)\n",
    "    # for ing in ingredients_lst:\n",
    "    #     tokenized_ingredients.append(tokenize_ingredient(ing))\n",
    "    for ingredient in tokenized_ingredients:\n",
    "        ingredient_name = ingredient['ingredient_name']\n",
    "        for meat in meats:\n",
    "            if meat in ingredient_name.lower():\n",
    "                ingredient['ingredient_name'] = to_veggie[meat]\n",
    "    return tokenized_ingredients\n",
    "    \n",
    "def modify_directions_veggies(steps):\n",
    "    steps_copy = copy.deepcopy(steps)\n",
    "    for step in steps_copy:\n",
    "        ingredients = step[1]['ingredient']\n",
    "        for index, ingredient in enumerate(ingredients):\n",
    "            for meat in meats:\n",
    "                if meat in ingredient.lower():\n",
    "                    ingredients[index] = ingredient.replace(meat, to_veggie[meat])\n",
    "                break\n",
    "        instruction = step[0]\n",
    "        for meat in meats:\n",
    "            if meat in instruction.lower():\n",
    "                step[0] = instruction.replace(meat, to_veggie[meat])\n",
    "                break\n",
    "    return steps_copy\n",
    "\n",
    "def parse_new_recipe(name):\n",
    "    ingredients, directions = get_recipe(name)\n",
    "    tokenized_ingredients, tokenized_steps = get_tokenized_ingredients_and_steps(ingredients, directions)\n",
    "\n",
    "    veggie_ingredients = to_veggie_ingredient(tokenized_ingredients)\n",
    "    veggie_directions = modify_directions_veggies(tokenized_steps)\n",
    "    return veggie_ingredients, veggie_directions"
   ]
  },
  {
   "cell_type": "code",
   "execution_count": 12,
   "metadata": {},
   "outputs": [
    {
     "name": "stderr",
     "output_type": "stream",
     "text": [
      "/anaconda3/lib/python3.6/site-packages/bs4/__init__.py:181: UserWarning: No parser was explicitly specified, so I'm using the best available HTML parser for this system (\"lxml\"). This usually isn't a problem, but if you run this code on another system, or in a different virtual environment, it may use a different parser and behave differently.\n",
      "\n",
      "The code that caused this warning is on line 193 of the file /anaconda3/lib/python3.6/runpy.py. To get rid of this warning, change code that looks like this:\n",
      "\n",
      " BeautifulSoup(YOUR_MARKUP})\n",
      "\n",
      "to this:\n",
      "\n",
      " BeautifulSoup(YOUR_MARKUP, \"lxml\")\n",
      "\n",
      "  markup_type=markup_type))\n"
     ]
    }
   ],
   "source": [
    "veggie_ingredients, veggie_directions = parse_new_recipe('meat lasagna')"
   ]
  },
  {
   "cell_type": "code",
   "execution_count": 17,
   "metadata": {},
   "outputs": [
    {
     "name": "stderr",
     "output_type": "stream",
     "text": [
      "/anaconda3/lib/python3.6/site-packages/bs4/__init__.py:181: UserWarning: No parser was explicitly specified, so I'm using the best available HTML parser for this system (\"lxml\"). This usually isn't a problem, but if you run this code on another system, or in a different virtual environment, it may use a different parser and behave differently.\n",
      "\n",
      "The code that caused this warning is on line 193 of the file /anaconda3/lib/python3.6/runpy.py. To get rid of this warning, change code that looks like this:\n",
      "\n",
      " BeautifulSoup(YOUR_MARKUP})\n",
      "\n",
      "to this:\n",
      "\n",
      " BeautifulSoup(YOUR_MARKUP, \"lxml\")\n",
      "\n",
      "  markup_type=markup_type))\n"
     ]
    },
    {
     "data": {
      "text/plain": [
       "[{'ingredient_name': 'whole wheat, lasagna noodles ',\n",
       "  'quantity': '12 ',\n",
       "  'measurement': '',\n",
       "  'preparation': ''},\n",
       " {'ingredient_name': 'tofu',\n",
       "  'quantity': '1 ',\n",
       "  'measurement': 'pound ',\n",
       "  'preparation': ''},\n",
       " {'ingredient_name': 'garlic ',\n",
       "  'quantity': '2 ',\n",
       "  'measurement': 'cloves ',\n",
       "  'preparation': ' chopped'},\n",
       " {'ingredient_name': 'garlic powder ',\n",
       "  'quantity': '1/2 ',\n",
       "  'measurement': 'teaspoon ',\n",
       "  'preparation': ''},\n",
       " {'ingredient_name': 'dried oregano ',\n",
       "  'quantity': '1 ',\n",
       "  'measurement': 'teaspoon ',\n",
       "  'preparation': ' or to taste'},\n",
       " {'ingredient_name': 'salt and ground black pepper to taste ',\n",
       "  'quantity': '',\n",
       "  'measurement': '',\n",
       "  'preparation': ''},\n",
       " {'ingredient_name': 'cottage cheese ',\n",
       "  'quantity': '1 (16 ounce) ',\n",
       "  'measurement': 'package ',\n",
       "  'preparation': ''},\n",
       " {'ingredient_name': 'eggs, ',\n",
       "  'quantity': '2 ',\n",
       "  'measurement': '',\n",
       "  'preparation': ''},\n",
       " {'ingredient_name': 'shredded parmesan cheese ',\n",
       "  'quantity': '1/2 ',\n",
       "  'measurement': 'cup ',\n",
       "  'preparation': ''},\n",
       " {'ingredient_name': 'tomato-basil pasta sauce ',\n",
       "  'quantity': '1 1/2 (25 ounce) ',\n",
       "  'measurement': 'jars ',\n",
       "  'preparation': ''},\n",
       " {'ingredient_name': 'shredded mozzarella cheese ',\n",
       "  'quantity': '2 ',\n",
       "  'measurement': 'cups ',\n",
       "  'preparation': ''}]"
      ]
     },
     "execution_count": 17,
     "metadata": {},
     "output_type": "execute_result"
    }
   ],
   "source": [
    "ingredients, directions = get_recipe('meat lasagna')\n",
    "tokenized_ingredients, tokenized_steps = get_tokenized_ingredients_and_steps(ingredients, directions)\n",
    "\n",
    "to_veggie_ingredient(tokenized_ingredients)"
   ]
  },
  {
   "cell_type": "code",
   "execution_count": 18,
   "metadata": {},
   "outputs": [
    {
     "data": {
      "text/plain": [
       "['12 whole wheat lasagna noodles',\n",
       " '1 pound lean ground beef',\n",
       " '2 cloves garlic, chopped',\n",
       " '1/2 teaspoon garlic powder',\n",
       " '1 teaspoon dried oregano, or to taste',\n",
       " 'salt and ground black pepper to taste',\n",
       " '1 (16 ounce) package cottage cheese',\n",
       " '2 eggs',\n",
       " '1/2 cup shredded Parmesan cheese',\n",
       " '1 1/2 (25 ounce) jars tomato-basil pasta sauce',\n",
       " '2 cups shredded mozzarella cheese']"
      ]
     },
     "execution_count": 18,
     "metadata": {},
     "output_type": "execute_result"
    }
   ],
   "source": [
    "ingredients"
   ]
  },
  {
   "cell_type": "code",
   "execution_count": 11,
   "metadata": {},
   "outputs": [],
   "source": [
    "def parse_new_recipe(name):\n",
    "    ingredients, directions = get_recipe(name)\n",
    "    tokenized_ingredients, tokenized_steps = get_tokenized_ingredients_and_steps(ingredients, directions)\n",
    "\n",
    "    veggie_ingredients = to_veggie_ingredient(tokenized_ingredients)\n",
    "    veggie_directions = modify_directions_veggies(tokenized_steps)\n",
    "\n",
    "    parsed_ingredients_lst = []\n",
    "    for ing in veggie_ingredients:\n",
    "        # text = f'{ing['quantity']} {ing['measurement']} {ing['ingredient_name']}'\n",
    "        text = ''.join((ing['quantity'], ing['measurement'], ing['ingredient_name']))\n",
    "        parsed_ingredients_lst.append(text)\n",
    "\n",
    "\n",
    "    return parsed_ingredients_lst, veggie_directions"
   ]
  },
  {
   "cell_type": "code",
   "execution_count": 13,
   "metadata": {},
   "outputs": [
    {
     "data": {
      "text/plain": [
       "['12 whole wheat, lasagna noodles ',\n",
       " '1 pound tofu',\n",
       " '2 cloves garlic ',\n",
       " '1/2 teaspoon garlic powder ',\n",
       " '1 teaspoon dried oregano ',\n",
       " 'salt and ground black pepper to taste ',\n",
       " '1 (16 ounce) package cottage cheese ',\n",
       " '2 eggs, ',\n",
       " '1/2 cup shredded parmesan cheese ',\n",
       " '1 1/2 (25 ounce) jars tomato-basil pasta sauce ',\n",
       " '2 cups shredded mozzarella cheese ']"
      ]
     },
     "execution_count": 13,
     "metadata": {},
     "output_type": "execute_result"
    }
   ],
   "source": [
    "veggie_ingredients"
   ]
  },
  {
   "cell_type": "code",
   "execution_count": null,
   "metadata": {},
   "outputs": [],
   "source": [
    "['12 whole wheat lasagna noodles',\n",
    "  '1 pound lean ground beef',\n",
    "  '2 cloves garlic, chopped',\n",
    "  '1/2 teaspoon garlic powder',\n",
    "  '1 teaspoon dried oregano, or to taste',\n",
    "  'salt and ground black pepper to taste',\n",
    "  '1 (16 ounce) package cottage cheese',\n",
    "  '2 eggs',\n",
    "  '1/2 cup shredded Parmesan cheese',\n",
    "  '1 1/2 (25 ounce) jars tomato-basil pasta sauce',\n",
    "  '2 cups shredded mozzarella cheese']"
   ]
  }
 ],
 "metadata": {
  "kernelspec": {
   "display_name": "Python 3",
   "language": "python",
   "name": "python3"
  },
  "language_info": {
   "codemirror_mode": {
    "name": "ipython",
    "version": 3
   },
   "file_extension": ".py",
   "mimetype": "text/x-python",
   "name": "python",
   "nbconvert_exporter": "python",
   "pygments_lexer": "ipython3",
   "version": "3.6.8"
  }
 },
 "nbformat": 4,
 "nbformat_minor": 2
}
