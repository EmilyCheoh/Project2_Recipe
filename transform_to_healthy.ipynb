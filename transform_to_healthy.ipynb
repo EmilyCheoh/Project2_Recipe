{
 "cells": [
  {
   "cell_type": "code",
   "execution_count": 160,
   "metadata": {},
   "outputs": [
    {
     "data": {
      "text/plain": [
       "True"
      ]
     },
     "execution_count": 160,
     "metadata": {},
     "output_type": "execute_result"
    }
   ],
   "source": [
    "import re\n",
    "def get_cooking_method(word):\n",
    "    methods = ['[Ss]aut[eé]','[Bb]ak(e|ing)','[Ff]r(y|ied)','[Rr]oast', '[Gg]rill','[Ss]team','[Pp]oach','[Ss]immer','[Bb]roil','[Bb]lanch','brais(e|ing)','[Ss]tew']\n",
    "    for method in methods:\n",
    "        if re.search(method,word):\n",
    "            return True\n",
    "    return False\n",
    "get_cooking_method(\"bake\")\n",
    "\n",
    "def get_cooking_tools(word):\n",
    "    tools1 = ['[Kk]nife','[Kk]nives','[Gg]rater','[Bb]oard','[Oo]pener','[Cc]up?','[Ss]poon?','[Bb]owl?','[Cc]olander?','[Pp]eeler?','[Mm]asher?','[Ww]hisk?','[Ss]pinner?','[Gg]rater?','[Ss]hear?','[Jj]uicer','[Pp]ress','[Ss]teel','[Ss]harpener?']\n",
    "    tools2 = ['[Ss]patula?','[Ss]poon?','[Tt]ong?','[Ll]adle?','[Mm]itt?','[Oo]ven','[Tt]rivet?','[Gg]uard','[Tt]hermometer?','[Bb]lender?','[Ss]cale?','[Cc]ontainer?']\n",
    "#     print(tools[2])\n",
    "#     print(re.search(tools[4],'spoon'))\n",
    "    for tool in tools1:\n",
    "        if re.search(tool,word):\n",
    "            return True\n",
    "    for tool in tools2:\n",
    "        if re.search(tool,word):\n",
    "            return True\n",
    "    return False\n",
    "get_cooking_tools('ovenn')"
   ]
  },
  {
   "cell_type": "code",
   "execution_count": 69,
   "metadata": {},
   "outputs": [],
   "source": [
    "import nltk \n",
    "from nltk.corpus import stopwords \n",
    "from nltk.tokenize import word_tokenize, sent_tokenize \n",
    "\n"
   ]
  },
  {
   "cell_type": "code",
   "execution_count": 157,
   "metadata": {},
   "outputs": [
    {
     "name": "stdout",
     "output_type": "stream",
     "text": [
      "16 ounce\n",
      "<re.Match object; span=(0, 6), match='source'>\n"
     ]
    }
   ],
   "source": [
    "import re\n",
    "\n",
    "s = \"You[60 pha].Customer(16 ounce) ...\"\n",
    "m = re.search(r\"\\(([0-9]* [A-Za-z0-9_]+)\\)\", s)\n",
    "print(m.group(1))\n",
    "# def tokenize(text):\n",
    "#     tokenized = sent_tokenize(text) \n",
    "#     for i in tokenized: \n",
    "#         wordsList = nltk.word_tokenize(i) \n",
    "\n",
    "#         tagged = nltk.pos_tag(wordsList) \n",
    "\n",
    "#         print(tagged) \n",
    "\n",
    "# tokenize('12 whole wheat lasagna noodles')\n",
    "# tokenize(' 1 pound lean ground beef')\n",
    "# tokenize(' 1 (16 ounce) package cottage cheese')\n",
    "tools = ['[Ss]ource']\n",
    "print(re.match(tools[0],'sources'))\n"
   ]
  },
  {
   "cell_type": "code",
   "execution_count": 80,
   "metadata": {},
   "outputs": [
    {
     "name": "stdout",
     "output_type": "stream",
     "text": [
      "[('Once', 'RB'), ('water', 'NN'), ('boiling', 'NN'), (',', ','), ('add', 'VB'), ('lasagna', 'JJ'), ('noodles', 'NNS'), ('time', 'NN'), (',', ','), ('return', 'VB'), ('boil', 'NN')]\n"
     ]
    }
   ],
   "source": [
    "def analyze_sentence(text):\n",
    "    text = text.replace(\"Watch Now\",\" \")\n",
    "    \n",
    "#     print(texts[0])\n",
    "    \n",
    "    stop_words = set(stopwords.words('english')) \n",
    "    tokenized = sent_tokenize(text) \n",
    "    for i in tokenized: \n",
    "        # Word tokenizers is used to find the words  \n",
    "        # and punctuation in a string \n",
    "        wordsList = nltk.word_tokenize(i) \n",
    "\n",
    "        # removing stop words from wordList \n",
    "        wordsList = [w for w in wordsList if not w in stop_words]  \n",
    "\n",
    "        #  Using a Tagger. Which is part-of-speech  \n",
    "        # tagger or POS-tagger.  \n",
    "        tagged = nltk.pos_tag(wordsList) \n",
    "        \n",
    "        print(tagged) \n",
    "        \n",
    "def get_steps(text):\n",
    "    for para in text:\n",
    "        sentences = para.split(\".\")\n",
    "        for s in sentences:\n",
    "            analyze_sentence(s)\n",
    "            \n",
    "\n",
    "    \n",
    "text = ['Preheat oven to 350 degrees F (175 degrees C).\\n                                    Watch Now',\n",
    "  'Fill a large pot with lightly salted water and bring to a rolling boil over high heat. Once the water is boiling, add the lasagna noodles a few at a time, and return to a boil. Cook the pasta uncovered, stirring occasionally, until the pasta has cooked through, but is still firm to the bite, about 10 minutes. Remove the noodles to a plate.\\n                                    Watch Now',\n",
    "  'Place the ground beef into a skillet over medium heat, add the garlic, garlic powder, oregano, salt, and black pepper to the skillet. Cook the meat, chopping it into small chunks as it cooks, until no longer pink, about 10 minutes. Drain excess grease.\\n                                    Watch Now',\n",
    "  'In a bowl, mix the cottage cheese, eggs, and Parmesan cheese until thoroughly combined.\\n                                    Watch Now',\n",
    "  'Place 4 noodles side by side into the bottom of a 9x13-inch baking pan; top with a layer of the tomato-basil sauce, a layer of ground beef mixture, and a layer of the cottage cheese mixture. Repeat layers twice more, ending with a layer of sauce; sprinkle top with the mozzarella cheese. Cover the dish with aluminum foil.\\n                                    Watch Now',\n",
    "  'Bake in the preheated oven until the casserole is bubbling and the cheese has melted, about 30 minutes. Remove foil and bake until cheese has begun to brown, about 10 more minutes. Allow to stand at least 10 minutes before serving.\\n                                    Watch Now']\n",
    "text = ['Once the water is boiling, add the lasagna noodles a few at a time, and return to a boil','In a bowl, mix the cottage cheese, eggs, and Parmesan cheese until thoroughly combined.']\n",
    "# get_steps(text)\n",
    "analyze_sentence(text[0])\n"
   ]
  },
  {
   "cell_type": "code",
   "execution_count": 79,
   "metadata": {},
   "outputs": [
    {
     "name": "stdout",
     "output_type": "stream",
     "text": [
      "True\n",
      "wheat\n",
      "lasagna\n",
      "noodles\n",
      "[('12', 'CD'), ('whole', 'JJ'), ('wheat', 'NN'), ('lasagna', 'NN'), ('noodles', 'NNS')]\n",
      "{'ingredient_name': 'whole wheat lasagna noodles ', 'quantity': '12 ', 'measurement': '', 'preparation': ''}\n",
      "cloves\n",
      "[('2', 'CD'), ('cloves', 'NNS'), ('garlic', 'JJ'), (',', ','), ('chopped', 'VBD')]\n",
      "{'ingredient_name': 'garlic ', 'quantity': '2 ', 'measurement': 'cloves', 'preparation': ' chopped'}\n",
      "teaspoon\n",
      "oregano\n",
      "[('1', 'CD'), ('teaspoon', 'NN'), ('dried', 'VBD'), ('oregano', 'NN'), (',', ','), ('or', 'CC'), ('to', 'TO'), ('taste', 'VB')]\n",
      "{'ingredient_name': 'dried oregano ', 'quantity': '1 ', 'measurement': 'teaspoon', 'preparation': ' or to taste'}\n"
     ]
    }
   ],
   "source": [
    "import re\n",
    "def is_measure_word(word):\n",
    "    quantifier1 = ['bowl','dish','pound','piece','can','box','bag','carton','jar','loaf','slice','package','dash','cube','pack','head','ear','kernel','gain','grain','stalk','spear','clove']\n",
    "    quantifier2 = ['teaspoon','tablespoon','glass','cup','pint','quart','half gallon','gallon','tank','jug','bottle','keg','shot','drop']\n",
    "    quantifier3 = ['bar','tube','container','stick','roll','ball','spool','skein','yard','meter','foot','piece','pad','roll','stick','pair']\n",
    "    for q in quantifier1:\n",
    "        if re.search(q,word):\n",
    "            return True\n",
    "    for q in quantifier2:\n",
    "        if re.search(q,word):\n",
    "            return True\n",
    "    for q in quantifier3:\n",
    "        if re.search(q,word):\n",
    "            return True\n",
    "        \n",
    "    return False\n",
    "print(is_measure_word('jars'))\n",
    "def tokenize_ingredient(text):\n",
    "    ingredient = {}\n",
    "    tokenized = sent_tokenize(text) \n",
    "    quantity = ''\n",
    "    ingredient_name = ''\n",
    "    measurement = ''\n",
    "    preparation = ''\n",
    "    measure_word = False\n",
    "    ignore = False\n",
    "    for token in tokenized: \n",
    "        wordsList = nltk.word_tokenize(token) \n",
    "        tagged = nltk.pos_tag(wordsList) \n",
    "        for tag in tagged:\n",
    "            if tag[1] == 'CD' and not ignore:\n",
    "                quantity += tag[0]+' '\n",
    "                measure_word = True\n",
    "            elif tag[0]== '(':\n",
    "                m = re.search(r\"\\(([0-9]* [A-Za-z0-9_]+)\\)\", s)\n",
    "                quantity += '(' +m.group(1)+') '\n",
    "                ignore = True\n",
    "            elif tag[0] == ')':\n",
    "                ignore = False\n",
    "                measure_word = True\n",
    "            elif (tag[1] == 'NN' or tag[1]=='NNS' or tag[1]=='VBZ') and not ignore:\n",
    "                word =  tag[0]\n",
    "                print(word)\n",
    "                if measure_word:\n",
    "                    if is_measure_word(word):\n",
    "                        measurement += word\n",
    "                    else:\n",
    "                        ingredient_name += word+' '\n",
    "                    measure_word = False\n",
    "                else:\n",
    "                    ingredient_name += word+' '\n",
    "            elif tag[0]==',':\n",
    "                preparation = token.split(',')[1]\n",
    "                break\n",
    "            elif not ignore:\n",
    "                ingredient_name+=tag[0]+' '\n",
    "        print(tagged) \n",
    "    ingredient['ingredient_name']=ingredient_name\n",
    "    ingredient['quantity'] = quantity\n",
    "    ingredient['measurement'] = measurement\n",
    "    ingredient['preparation'] = preparation\n",
    "    \n",
    "    print(ingredient)\n",
    "\n",
    "    \n",
    "\n",
    "tokenize_ingredient(\"12 whole wheat lasagna noodles\")\n",
    "# tokenize_ingredient('1 1/2 (25 ounce) jars tomato-basil pasta sauce')\n",
    "tokenize_ingredient(' 2 cloves garlic, chopped')\n",
    "# tokenize_ingredient(' 1 (60 ounce) package cottage cheese')\n",
    "tokenize_ingredient('  1 teaspoon dried oregano, or to taste')\n"
   ]
  },
  {
   "cell_type": "code",
   "execution_count": 5,
   "metadata": {},
   "outputs": [
    {
     "name": "stderr",
     "output_type": "stream",
     "text": [
      "C:\\Users\\YUW72\\Desktop\\NLP\\Project2_Recipe\\script.py:25: UserWarning: No parser was explicitly specified, so I'm using the best available HTML parser for this system (\"lxml\"). This usually isn't a problem, but if you run this code on another system, or in a different virtual environment, it may use a different parser and behave differently.\n",
      "\n",
      "The code that caused this warning is on line 25 of the file C:\\Users\\YUW72\\Desktop\\NLP\\Project2_Recipe\\script.py. To get rid of this warning, pass the additional argument 'features=\"lxml\"' to the BeautifulSoup constructor.\n",
      "\n",
      "  page_graph = BeautifulSoup(page_html.content)\n",
      "C:\\Users\\YUW72\\Desktop\\NLP\\Project2_Recipe\\script.py:44: UserWarning: No parser was explicitly specified, so I'm using the best available HTML parser for this system (\"lxml\"). This usually isn't a problem, but if you run this code on another system, or in a different virtual environment, it may use a different parser and behave differently.\n",
      "\n",
      "The code that caused this warning is on line 44 of the file C:\\Users\\YUW72\\Desktop\\NLP\\Project2_Recipe\\script.py. To get rid of this warning, pass the additional argument 'features=\"lxml\"' to the BeautifulSoup constructor.\n",
      "\n",
      "  page_graph = BeautifulSoup(page_html.content)\n"
     ]
    },
    {
     "name": "stdout",
     "output_type": "stream",
     "text": [
      "{'ingredients': ['12 whole wheat lasagna noodles', '1 pound lean ground beef', '2 cloves garlic, chopped', '1/2 teaspoon garlic powder', '1 teaspoon dried oregano, or to taste', 'salt and ground black pepper to taste', '1 (16 ounce) package cottage cheese', '2 eggs', '1/2 cup shredded Parmesan cheese', '1 1/2 (25 ounce) jars tomato-basil pasta sauce', '2 cups shredded mozzarella cheese'], 'directions': ['Preheat oven to 350 degrees F (175 degrees C).\\n                                    Watch Now', 'Fill a large pot with lightly salted water and bring to a rolling boil over high heat. Once the water is boiling, add the lasagna noodles a few at a time, and return to a boil. Cook the pasta uncovered, stirring occasionally, until the pasta has cooked through, but is still firm to the bite, about 10 minutes. Remove the noodles to a plate.\\n                                    Watch Now', 'Place the ground beef into a skillet over medium heat, add the garlic, garlic powder, oregano, salt, and black pepper to the skillet. Cook the meat, chopping it into small chunks as it cooks, until no longer pink, about 10 minutes. Drain excess grease.\\n                                    Watch Now', 'In a bowl, mix the cottage cheese, eggs, and Parmesan cheese until thoroughly combined.\\n                                    Watch Now', 'Place 4 noodles side by side into the bottom of a 9x13-inch baking pan; top with a layer of the tomato-basil sauce, a layer of ground beef mixture, and a layer of the cottage cheese mixture. Repeat layers twice more, ending with a layer of sauce; sprinkle top with the mozzarella cheese. Cover the dish with aluminum foil.\\n                                    Watch Now', 'Bake in the preheated oven until the casserole is bubbling and the cheese has melted, about 30 minutes. Remove foil and bake until cheese has begun to brown, about 10 more minutes. Allow to stand at least 10 minutes before serving.\\n                                    Watch Now'], 'nutrition': [{'name': 'Total Fat ', 'amount': '19.3', 'unit': 'g', 'daily_value': '30 %'}, {'name': 'Saturated Fat ', 'amount': '9.0', 'unit': 'g', 'daily_value': None}, {'name': 'Cholesterol ', 'amount': '115', 'unit': 'mg', 'daily_value': '38 %'}, {'name': 'Sodium ', 'amount': '999', 'unit': 'mg', 'daily_value': '40 %'}, {'name': 'Potassium ', 'amount': '717', 'unit': 'mg', 'daily_value': '20 %'}, {'name': 'Total Carbohydrates ', 'amount': '47.1', 'unit': 'g', 'daily_value': '15 %'}, {'name': 'Dietary Fiber ', 'amount': '6.3', 'unit': 'g', 'daily_value': '25 %'}, {'name': 'Protein ', 'amount': '35.6', 'unit': 'g', 'daily_value': '71 %'}, {'name': 'Sugars ', 'amount': '12', 'unit': 'g', 'daily_value': None}, {'name': 'Vitamin A ', 'amount': '855', 'unit': 'IU', 'daily_value': None}, {'name': 'Vitamin C ', 'amount': '2', 'unit': 'mg', 'daily_value': None}, {'name': 'Calcium ', 'amount': '361', 'unit': 'mg', 'daily_value': None}, {'name': 'Iron ', 'amount': '4', 'unit': 'mg', 'daily_value': None}, {'name': 'Thiamin ', 'amount': '0', 'unit': 'mg', 'daily_value': None}, {'name': 'Niacin ', 'amount': '11', 'unit': 'mg', 'daily_value': None}, {'name': 'Vitamin B ', 'amount': '0', 'unit': 'mg', 'daily_value': None}, {'name': 'Magnesium ', 'amount': '74', 'unit': 'mg', 'daily_value': None}, {'name': 'Folate ', 'amount': '41', 'unit': 'mcg', 'daily_value': None}]}\n",
      "['Preheat oven to 350 degrees F (175 degrees C).', 'Fill a large pot with lightly salted water and bring to a rolling boil over high heat. Once the water is boiling, add the lasagna noodles a few at a time, and return to a boil. Cook the pasta uncovered, stirring occasionally, until the pasta has cooked through, but is still firm to the bite, about 10 minutes. Remove the noodles to a plate.', 'Place the ground beef into a skillet over medium heat, add the garlic, garlic powder, oregano, salt, and black pepper to the skillet. Cook the meat, chopping it into small chunks as it cooks, until no longer pink, about 10 minutes. Drain excess grease.', 'In a bowl, mix the cottage cheese, eggs, and Parmesan cheese until thoroughly combined.', 'Place 4 noodles side by side into the bottom of a 9x13-inch baking pan; top with a layer of the tomato-basil sauce, a layer of ground beef mixture, and a layer of the cottage cheese mixture. Repeat layers twice more, ending with a layer of sauce; sprinkle top with the mozzarella cheese. Cover the dish with aluminum foil.', 'Bake in the preheated oven until the casserole is bubbling and the cheese has melted, about 30 minutes. Remove foil and bake until cheese has begun to brown, about 10 more minutes. Allow to stand at least 10 minutes before serving.']\n"
     ]
    }
   ],
   "source": [
    "import script\n",
    "keywords = 'meat lasagna'\n",
    "rf = script.RecipeFetcher()\n",
    "meat_lasagna = rf.search_recipes(keywords)[0]\n",
    "result = rf.scrape_recipe(meat_lasagna)\n",
    "# print(result)\n",
    "# print(result['ingredients'])\n",
    "print(result['directions'])\n",
    "\n",
    "\n",
    "\n",
    "\n"
   ]
  },
  {
   "cell_type": "code",
   "execution_count": null,
   "metadata": {},
   "outputs": [],
   "source": []
  },
  {
   "cell_type": "code",
   "execution_count": null,
   "metadata": {},
   "outputs": [],
   "source": []
  }
 ],
 "metadata": {
  "kernelspec": {
   "display_name": "Python 3",
   "language": "python",
   "name": "python3"
  },
  "language_info": {
   "codemirror_mode": {
    "name": "ipython",
    "version": 3
   },
   "file_extension": ".py",
   "mimetype": "text/x-python",
   "name": "python",
   "nbconvert_exporter": "python",
   "pygments_lexer": "ipython3",
   "version": "3.7.2"
  }
 },
 "nbformat": 4,
 "nbformat_minor": 4
}
